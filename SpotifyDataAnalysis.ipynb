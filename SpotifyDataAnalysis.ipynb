{
 "cells": [
  {
   "cell_type": "markdown",
   "id": "0b5bb1de",
   "metadata": {},
   "source": [
    "## EDA - 2 - Spotify Data Analysis"
   ]
  },
  {
   "cell_type": "markdown",
   "id": "a81ab050",
   "metadata": {},
   "source": [
    "## About Dataset\n",
    "\n",
    "The dataset titled \"Spotify Data: Popular Hip-hop Artists and Tracks\" provides a curated collection of\n",
    "approximately 500 entries showcasing the vibrant realm of hip-hop music. These entries meticulously compile\n",
    "the most celebrated hip-hop tracks and artists, reflecting their significant influence on the genre's landscape.\n",
    "Each entry not only highlights the popularity and musical composition of the tracks but also underscores the\n",
    "creative prowess of the artists and their profound impact on global listeners.\n",
    "\n",
    "#### Dataset link : https://drive.google.com/file/d/1a7k_HhliLygmYUaA7FAslVOcTUAoknpv/view?usp=sharing\n",
    "\n",
    "## Application in Data Science:\n",
    "\n",
    "This dataset serves as a valuable resource for various data science explorations. Analysts can delve into trend\n",
    "analysis to discern the popularity dynamics of hit hip-hop tracks over recent years. Additionally, the dataset\n",
    "enables network analysis to uncover collaborative patterns among top artists, shedding light on the genre's\n",
    "evolving collaborative landscape. Furthermore, it facilitates the development of predictive models aimed at\n",
    "forecasting track popularity based on diverse features, offering insights for artists, producers, and marketers.\n",
    "\n",
    "## Feature Desciption\n",
    "\n",
    "Artist: The name of the artist, providing direct attribution to the creative mind behind the track.\n",
    "Track Name: The title of the track, encapsulating its identity and essence.\n",
    "Popularity: A numeric score reflecting the track's reception and appeal among Spotify listeners.\n",
    "Duration (ms): The track's length in milliseconds, detailing the temporal extent of the musical experience.\n",
    "Track ID: A unique identifier within Spotify's ecosystem, enabling direct access to the track for further\n",
    "exploration."
   ]
  },
  {
   "cell_type": "markdown",
   "id": "d2f94c54",
   "metadata": {},
   "source": [
    "#### 1.Load the dataframe and ensure data quality by checking for missing values and duplicate rows. Handle missing values and remove duplicate rows if necessary."
   ]
  },
  {
   "cell_type": "code",
   "execution_count": null,
   "id": "1365b533",
   "metadata": {},
   "outputs": [],
   "source": []
  },
  {
   "cell_type": "markdown",
   "id": "2f410462",
   "metadata": {},
   "source": [
    "#### 2.What is the distribution of popularity among the tracks in the dataset? Visualize it using a histogram."
   ]
  },
  {
   "cell_type": "code",
   "execution_count": null,
   "id": "d35e7318",
   "metadata": {},
   "outputs": [],
   "source": []
  },
  {
   "cell_type": "markdown",
   "id": "700afdcc",
   "metadata": {},
   "source": [
    "#### 3.Is there any relationship between the popularity and the duration of tracks? Explore this using a scatter plot."
   ]
  },
  {
   "cell_type": "code",
   "execution_count": null,
   "id": "f0134f69",
   "metadata": {},
   "outputs": [],
   "source": []
  },
  {
   "cell_type": "markdown",
   "id": "48d34a7d",
   "metadata": {},
   "source": [
    "#### 4.Which artist has the highest number of tracks in the dataset? Display the count of tracks for each artist using a countplot."
   ]
  },
  {
   "cell_type": "code",
   "execution_count": null,
   "id": "d99f284f",
   "metadata": {},
   "outputs": [],
   "source": []
  },
  {
   "cell_type": "markdown",
   "id": "d5b9e7ec",
   "metadata": {},
   "source": [
    "#### 5.What are the top 5 least popular tracks in the dataset? Provide the artist name and track name for each."
   ]
  },
  {
   "cell_type": "code",
   "execution_count": null,
   "id": "f0a13622",
   "metadata": {},
   "outputs": [],
   "source": []
  },
  {
   "cell_type": "markdown",
   "id": "ec639b3b",
   "metadata": {},
   "source": [
    "#### 6.Among the top 5 most popular artists, which artist has the highest popularity on average? Calculate and display the average popularity for each artist."
   ]
  },
  {
   "cell_type": "code",
   "execution_count": null,
   "id": "48c58b18",
   "metadata": {},
   "outputs": [],
   "source": []
  },
  {
   "cell_type": "markdown",
   "id": "a33ab56a",
   "metadata": {},
   "source": [
    "#### 7.For the top 5 most popular artists, what are their most popular tracks? List the track name for each artist."
   ]
  },
  {
   "cell_type": "code",
   "execution_count": null,
   "id": "a0b7ddb0",
   "metadata": {},
   "outputs": [],
   "source": []
  },
  {
   "cell_type": "markdown",
   "id": "69b2838e",
   "metadata": {},
   "source": [
    "#### 8.Visualize relationships between multiple numerical variables simultaneously using a pair plot."
   ]
  },
  {
   "cell_type": "code",
   "execution_count": null,
   "id": "75ec3920",
   "metadata": {},
   "outputs": [],
   "source": []
  },
  {
   "cell_type": "markdown",
   "id": "004af5fe",
   "metadata": {},
   "source": [
    "#### 9.Does the duration of tracks vary significantly across different artists? Explore this visually using a box plot or violin plot."
   ]
  },
  {
   "cell_type": "code",
   "execution_count": null,
   "id": "4eef20f1",
   "metadata": {},
   "outputs": [],
   "source": []
  },
  {
   "cell_type": "markdown",
   "id": "b9afd42b",
   "metadata": {},
   "source": [
    "#### 10.How does the distribution of track popularity vary for different artists? Visualize this using a swarm plot or a violin plot."
   ]
  },
  {
   "cell_type": "code",
   "execution_count": null,
   "id": "d48459b8",
   "metadata": {},
   "outputs": [],
   "source": []
  }
 ],
 "metadata": {
  "kernelspec": {
   "display_name": "Python 3 (ipykernel)",
   "language": "python",
   "name": "python3"
  },
  "language_info": {
   "codemirror_mode": {
    "name": "ipython",
    "version": 3
   },
   "file_extension": ".py",
   "mimetype": "text/x-python",
   "name": "python",
   "nbconvert_exporter": "python",
   "pygments_lexer": "ipython3",
   "version": "3.9.12"
  }
 },
 "nbformat": 4,
 "nbformat_minor": 5
}
