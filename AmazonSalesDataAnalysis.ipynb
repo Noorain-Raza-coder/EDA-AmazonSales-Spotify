{
 "cells": [
  {
   "cell_type": "markdown",
   "id": "c290e2b9",
   "metadata": {},
   "source": [
    "## EDA-2 - Amazon Sales Data Analysis"
   ]
  },
  {
   "cell_type": "markdown",
   "id": "888cf4c8",
   "metadata": {},
   "source": [
    "## About Dataset :\n",
    "This dataset contains information on 1K+ Amazon products, including their ratings, reviews, and other details.\n",
    "\n",
    "## Dataset Link :\n",
    "https://drive.google.com/file/d/11NyikQ2o4IgjS7QOT-5-eKV6dOANt712/view?usp=drive_link"
   ]
  },
  {
   "cell_type": "markdown",
   "id": "06c6fb8f",
   "metadata": {},
   "source": [
    "## Feature Description : \n",
    "\n",
    "product_id: Unique identifier for each product\n",
    "\n",
    "product_name: Name of the product\n",
    "\n",
    "category: Category of the product\n",
    "\n",
    "discounted_price: Discounted price of the product\n",
    "\n",
    "actual_price: Actual price of the product\n",
    "\n",
    "discount_percentage: Percentage of discount for the product\n",
    "\n",
    "rating: Rating of the product (1-5)\n",
    "\n",
    "rating_count: Number of people who voted for the Amazon rating\n",
    "\n",
    "about_product: Description about the product\n",
    "\n",
    "user_id: ID of the user who wrote the review\n",
    "\n",
    "user_name: Name of the user who wrote the review\n",
    "\n",
    "review_id: ID of the user review\n",
    "\n",
    "review_title: Short review\n",
    "\n",
    "review_content: Long review\n",
    "\n",
    "img_link: Image link of the product\n",
    "\n",
    "product_link: Qfficial website link of the product"
   ]
  },
  {
   "cell_type": "markdown",
   "id": "37c57bb6",
   "metadata": {},
   "source": [
    "## Importing and reading dataset"
   ]
  },
  {
   "cell_type": "code",
   "execution_count": 1,
   "id": "41bcf6c3",
   "metadata": {},
   "outputs": [],
   "source": [
    "import pandas as pd\n",
    "import matplotlib.pyplot as plt\n",
    "import seaborn as sns\n",
    "import numpy as np\n",
    "\n",
    "import warnings\n",
    "warnings.filterwarnings('ignore')"
   ]
  },
  {
   "cell_type": "code",
   "execution_count": 2,
   "id": "87873ccb",
   "metadata": {
    "scrolled": true
   },
   "outputs": [
    {
     "data": {
      "text/html": [
       "<div>\n",
       "<style scoped>\n",
       "    .dataframe tbody tr th:only-of-type {\n",
       "        vertical-align: middle;\n",
       "    }\n",
       "\n",
       "    .dataframe tbody tr th {\n",
       "        vertical-align: top;\n",
       "    }\n",
       "\n",
       "    .dataframe thead th {\n",
       "        text-align: right;\n",
       "    }\n",
       "</style>\n",
       "<table border=\"1\" class=\"dataframe\">\n",
       "  <thead>\n",
       "    <tr style=\"text-align: right;\">\n",
       "      <th></th>\n",
       "      <th>product_id</th>\n",
       "      <th>product_name</th>\n",
       "      <th>category</th>\n",
       "      <th>discounted_price</th>\n",
       "      <th>actual_price</th>\n",
       "      <th>discount_percentage</th>\n",
       "      <th>rating</th>\n",
       "      <th>rating_count</th>\n",
       "      <th>about_product</th>\n",
       "      <th>user_id</th>\n",
       "      <th>user_name</th>\n",
       "      <th>review_id</th>\n",
       "      <th>review_title</th>\n",
       "      <th>review_content</th>\n",
       "      <th>img_link</th>\n",
       "      <th>product_link</th>\n",
       "    </tr>\n",
       "  </thead>\n",
       "  <tbody>\n",
       "    <tr>\n",
       "      <th>0</th>\n",
       "      <td>B07JW9H4J1</td>\n",
       "      <td>Wayona Nylon Braided USB to Lightning Fast Cha...</td>\n",
       "      <td>Computers&amp;Accessories|Accessories&amp;Peripherals|...</td>\n",
       "      <td>₹399</td>\n",
       "      <td>₹1,099</td>\n",
       "      <td>64%</td>\n",
       "      <td>4.2</td>\n",
       "      <td>24,269</td>\n",
       "      <td>High Compatibility : Compatible With iPhone 12...</td>\n",
       "      <td>AG3D6O4STAQKAY2UVGEUV46KN35Q,AHMY5CWJMMK5BJRBB...</td>\n",
       "      <td>Manav,Adarsh gupta,Sundeep,S.Sayeed Ahmed,jasp...</td>\n",
       "      <td>R3HXWT0LRP0NMF,R2AJM3LFTLZHFO,R6AQJGUP6P86,R1K...</td>\n",
       "      <td>Satisfied,Charging is really fast,Value for mo...</td>\n",
       "      <td>Looks durable Charging is fine tooNo complains...</td>\n",
       "      <td>https://m.media-amazon.com/images/W/WEBP_40237...</td>\n",
       "      <td>https://www.amazon.in/Wayona-Braided-WN3LG1-Sy...</td>\n",
       "    </tr>\n",
       "    <tr>\n",
       "      <th>1</th>\n",
       "      <td>B098NS6PVG</td>\n",
       "      <td>Ambrane Unbreakable 60W / 3A Fast Charging 1.5...</td>\n",
       "      <td>Computers&amp;Accessories|Accessories&amp;Peripherals|...</td>\n",
       "      <td>₹199</td>\n",
       "      <td>₹349</td>\n",
       "      <td>43%</td>\n",
       "      <td>4.0</td>\n",
       "      <td>43,994</td>\n",
       "      <td>Compatible with all Type C enabled devices, be...</td>\n",
       "      <td>AECPFYFQVRUWC3KGNLJIOREFP5LQ,AGYYVPDD7YG7FYNBX...</td>\n",
       "      <td>ArdKn,Nirbhay kumar,Sagar Viswanathan,Asp,Plac...</td>\n",
       "      <td>RGIQEG07R9HS2,R1SMWZQ86XIN8U,R2J3Y1WL29GWDE,RY...</td>\n",
       "      <td>A Good Braided Cable for Your Type C Device,Go...</td>\n",
       "      <td>I ordered this cable to connect my phone to An...</td>\n",
       "      <td>https://m.media-amazon.com/images/W/WEBP_40237...</td>\n",
       "      <td>https://www.amazon.in/Ambrane-Unbreakable-Char...</td>\n",
       "    </tr>\n",
       "    <tr>\n",
       "      <th>2</th>\n",
       "      <td>B096MSW6CT</td>\n",
       "      <td>Sounce Fast Phone Charging Cable &amp; Data Sync U...</td>\n",
       "      <td>Computers&amp;Accessories|Accessories&amp;Peripherals|...</td>\n",
       "      <td>₹199</td>\n",
       "      <td>₹1,899</td>\n",
       "      <td>90%</td>\n",
       "      <td>3.9</td>\n",
       "      <td>7,928</td>\n",
       "      <td>【 Fast Charger&amp; Data Sync】-With built-in safet...</td>\n",
       "      <td>AGU3BBQ2V2DDAMOAKGFAWDDQ6QHA,AESFLDV2PT363T2AQ...</td>\n",
       "      <td>Kunal,Himanshu,viswanath,sai niharka,saqib mal...</td>\n",
       "      <td>R3J3EQQ9TZI5ZJ,R3E7WBGK7ID0KV,RWU79XKQ6I1QF,R2...</td>\n",
       "      <td>Good speed for earlier versions,Good Product,W...</td>\n",
       "      <td>Not quite durable and sturdy,https://m.media-a...</td>\n",
       "      <td>https://m.media-amazon.com/images/W/WEBP_40237...</td>\n",
       "      <td>https://www.amazon.in/Sounce-iPhone-Charging-C...</td>\n",
       "    </tr>\n",
       "    <tr>\n",
       "      <th>3</th>\n",
       "      <td>B08HDJ86NZ</td>\n",
       "      <td>boAt Deuce USB 300 2 in 1 Type-C &amp; Micro USB S...</td>\n",
       "      <td>Computers&amp;Accessories|Accessories&amp;Peripherals|...</td>\n",
       "      <td>₹329</td>\n",
       "      <td>₹699</td>\n",
       "      <td>53%</td>\n",
       "      <td>4.2</td>\n",
       "      <td>94,363</td>\n",
       "      <td>The boAt Deuce USB 300 2 in 1 cable is compati...</td>\n",
       "      <td>AEWAZDZZJLQUYVOVGBEUKSLXHQ5A,AG5HTSFRRE6NL3M5S...</td>\n",
       "      <td>Omkar dhale,JD,HEMALATHA,Ajwadh a.,amar singh ...</td>\n",
       "      <td>R3EEUZKKK9J36I,R3HJVYCLYOY554,REDECAZ7AMPQC,R1...</td>\n",
       "      <td>Good product,Good one,Nice,Really nice product...</td>\n",
       "      <td>Good product,long wire,Charges good,Nice,I bou...</td>\n",
       "      <td>https://m.media-amazon.com/images/I/41V5FtEWPk...</td>\n",
       "      <td>https://www.amazon.in/Deuce-300-Resistant-Tang...</td>\n",
       "    </tr>\n",
       "    <tr>\n",
       "      <th>4</th>\n",
       "      <td>B08CF3B7N1</td>\n",
       "      <td>Portronics Konnect L 1.2M Fast Charging 3A 8 P...</td>\n",
       "      <td>Computers&amp;Accessories|Accessories&amp;Peripherals|...</td>\n",
       "      <td>₹154</td>\n",
       "      <td>₹399</td>\n",
       "      <td>61%</td>\n",
       "      <td>4.2</td>\n",
       "      <td>16,905</td>\n",
       "      <td>[CHARGE &amp; SYNC FUNCTION]- This cable comes wit...</td>\n",
       "      <td>AE3Q6KSUK5P75D5HFYHCRAOLODSA,AFUGIFH5ZAFXRDSZH...</td>\n",
       "      <td>rahuls6099,Swasat Borah,Ajay Wadke,Pranali,RVK...</td>\n",
       "      <td>R1BP4L2HH9TFUP,R16PVJEXKV6QZS,R2UPDB81N66T4P,R...</td>\n",
       "      <td>As good as original,Decent,Good one for second...</td>\n",
       "      <td>Bought this instead of original apple, does th...</td>\n",
       "      <td>https://m.media-amazon.com/images/W/WEBP_40237...</td>\n",
       "      <td>https://www.amazon.in/Portronics-Konnect-POR-1...</td>\n",
       "    </tr>\n",
       "    <tr>\n",
       "      <th>...</th>\n",
       "      <td>...</td>\n",
       "      <td>...</td>\n",
       "      <td>...</td>\n",
       "      <td>...</td>\n",
       "      <td>...</td>\n",
       "      <td>...</td>\n",
       "      <td>...</td>\n",
       "      <td>...</td>\n",
       "      <td>...</td>\n",
       "      <td>...</td>\n",
       "      <td>...</td>\n",
       "      <td>...</td>\n",
       "      <td>...</td>\n",
       "      <td>...</td>\n",
       "      <td>...</td>\n",
       "      <td>...</td>\n",
       "    </tr>\n",
       "    <tr>\n",
       "      <th>1460</th>\n",
       "      <td>B08L7J3T31</td>\n",
       "      <td>Noir Aqua - 5pcs PP Spun Filter + 1 Spanner | ...</td>\n",
       "      <td>Home&amp;Kitchen|Kitchen&amp;HomeAppliances|WaterPurif...</td>\n",
       "      <td>₹379</td>\n",
       "      <td>₹919</td>\n",
       "      <td>59%</td>\n",
       "      <td>4</td>\n",
       "      <td>1,090</td>\n",
       "      <td>SUPREME QUALITY 90 GRAM 3 LAYER THIK PP SPUN F...</td>\n",
       "      <td>AHITFY6AHALOFOHOZEOC6XBP4FEA,AFRABBODZJZQB6Z4U...</td>\n",
       "      <td>Prabha ds,Raghuram bk,Real Deal,Amazon Custome...</td>\n",
       "      <td>R3G3XFHPBFF0E8,R3C0BZCD32EIGW,R2EBVBCN9QPD9R,R...</td>\n",
       "      <td>Received the product without spanner,Excellent...</td>\n",
       "      <td>I received product without spanner,Excellent p...</td>\n",
       "      <td>https://m.media-amazon.com/images/I/41fDdRtjfx...</td>\n",
       "      <td>https://www.amazon.in/Noir-Aqua-Spanner-Purifi...</td>\n",
       "    </tr>\n",
       "    <tr>\n",
       "      <th>1461</th>\n",
       "      <td>B01M6453MB</td>\n",
       "      <td>Prestige Delight PRWO Electric Rice Cooker (1 ...</td>\n",
       "      <td>Home&amp;Kitchen|Kitchen&amp;HomeAppliances|SmallKitch...</td>\n",
       "      <td>₹2,280</td>\n",
       "      <td>₹3,045</td>\n",
       "      <td>25%</td>\n",
       "      <td>4.1</td>\n",
       "      <td>4,118</td>\n",
       "      <td>230 Volts, 400 watts, 1 Year</td>\n",
       "      <td>AFG5FM3NEMOL6BNFRV2NK5FNJCHQ,AGEINTRN6Z563RMLH...</td>\n",
       "      <td>Manu Bhai,Naveenpittu,Evatira Sangma,JAGANNADH...</td>\n",
       "      <td>R3DDL2UPKQ2CK9,R2SYYU1OATVIU5,R1VM993161IYRW,R...</td>\n",
       "      <td>ok,everything was good couldn't return bcoz I ...</td>\n",
       "      <td>ok,got everything as mentioned but the measuri...</td>\n",
       "      <td>https://m.media-amazon.com/images/I/41gzDxk4+k...</td>\n",
       "      <td>https://www.amazon.in/Prestige-Delight-PRWO-1-...</td>\n",
       "    </tr>\n",
       "    <tr>\n",
       "      <th>1462</th>\n",
       "      <td>B009P2LIL4</td>\n",
       "      <td>Bajaj Majesty RX10 2000 Watts Heat Convector R...</td>\n",
       "      <td>Home&amp;Kitchen|Heating,Cooling&amp;AirQuality|RoomHe...</td>\n",
       "      <td>₹2,219</td>\n",
       "      <td>₹3,080</td>\n",
       "      <td>28%</td>\n",
       "      <td>3.6</td>\n",
       "      <td>468</td>\n",
       "      <td>International design and styling|Two heat sett...</td>\n",
       "      <td>AGVPWCMAHYQWJOQKMUJN4DW3KM5Q,AF4Q3E66MY4SR7YQZ...</td>\n",
       "      <td>Nehal Desai,Danish Parwez,Amazon Customer,Amaz...</td>\n",
       "      <td>R1TLRJVW4STY5I,R2O455KRN493R1,R3Q5MVGBRIAS2G,R...</td>\n",
       "      <td>very good,Work but front melt after 2 month,Go...</td>\n",
       "      <td>plastic but cool body ,u have to find sturdy s...</td>\n",
       "      <td>https://m.media-amazon.com/images/W/WEBP_40237...</td>\n",
       "      <td>https://www.amazon.in/Bajaj-RX-10-2000-Watt-Co...</td>\n",
       "    </tr>\n",
       "    <tr>\n",
       "      <th>1463</th>\n",
       "      <td>B00J5DYCCA</td>\n",
       "      <td>Havells Ventil Air DSP 230mm Exhaust Fan (Pist...</td>\n",
       "      <td>Home&amp;Kitchen|Heating,Cooling&amp;AirQuality|Fans|E...</td>\n",
       "      <td>₹1,399</td>\n",
       "      <td>₹1,890</td>\n",
       "      <td>26%</td>\n",
       "      <td>4</td>\n",
       "      <td>8,031</td>\n",
       "      <td>Fan sweep area: 230 MM ; Noise level: (40 - 45...</td>\n",
       "      <td>AF2JQCLSCY3QJATWUNNHUSVUPNQQ,AFDMLUXC5LS5RXDJS...</td>\n",
       "      <td>Shubham Dubey,E.GURUBARAN,Mayank S.,eusuf khan...</td>\n",
       "      <td>R39Q2Y79MM9SWK,R3079BG1NIH6MB,R29A31ZELTZNJM,R...</td>\n",
       "      <td>Fan Speed is slow,Good quality,Good product,go...</td>\n",
       "      <td>I have installed this in my kitchen working fi...</td>\n",
       "      <td>https://m.media-amazon.com/images/W/WEBP_40237...</td>\n",
       "      <td>https://www.amazon.in/Havells-Ventilair-230mm-...</td>\n",
       "    </tr>\n",
       "    <tr>\n",
       "      <th>1464</th>\n",
       "      <td>B01486F4G6</td>\n",
       "      <td>Borosil Jumbo 1000-Watt Grill Sandwich Maker (...</td>\n",
       "      <td>Home&amp;Kitchen|Kitchen&amp;HomeAppliances|SmallKitch...</td>\n",
       "      <td>₹2,863</td>\n",
       "      <td>₹3,690</td>\n",
       "      <td>22%</td>\n",
       "      <td>4.3</td>\n",
       "      <td>6,987</td>\n",
       "      <td>Brand-Borosil, Specification â€“ 23V ~ 5Hz;1 W...</td>\n",
       "      <td>AFGW5PT3R6ZAVQR4Y5MWVAKBZAYA,AG7QNJ2SCS5VS5VYY...</td>\n",
       "      <td>Rajib,Ajay B,Vikas Kahol,PARDEEP,Anindya Prama...</td>\n",
       "      <td>R20RBRZ0WEUJT9,ROKIFK9R2ISSE,R30EEG2FNJSN5I,R2...</td>\n",
       "      <td>Works perfect,Ok good product,Nice Product. Re...</td>\n",
       "      <td>It does it job perfectly..only issue is temp c...</td>\n",
       "      <td>https://m.media-amazon.com/images/W/WEBP_40237...</td>\n",
       "      <td>https://www.amazon.in/Borosil-Jumbo-1000-Watt-...</td>\n",
       "    </tr>\n",
       "  </tbody>\n",
       "</table>\n",
       "<p>1465 rows × 16 columns</p>\n",
       "</div>"
      ],
      "text/plain": [
       "      product_id                                       product_name  \\\n",
       "0     B07JW9H4J1  Wayona Nylon Braided USB to Lightning Fast Cha...   \n",
       "1     B098NS6PVG  Ambrane Unbreakable 60W / 3A Fast Charging 1.5...   \n",
       "2     B096MSW6CT  Sounce Fast Phone Charging Cable & Data Sync U...   \n",
       "3     B08HDJ86NZ  boAt Deuce USB 300 2 in 1 Type-C & Micro USB S...   \n",
       "4     B08CF3B7N1  Portronics Konnect L 1.2M Fast Charging 3A 8 P...   \n",
       "...          ...                                                ...   \n",
       "1460  B08L7J3T31  Noir Aqua - 5pcs PP Spun Filter + 1 Spanner | ...   \n",
       "1461  B01M6453MB  Prestige Delight PRWO Electric Rice Cooker (1 ...   \n",
       "1462  B009P2LIL4  Bajaj Majesty RX10 2000 Watts Heat Convector R...   \n",
       "1463  B00J5DYCCA  Havells Ventil Air DSP 230mm Exhaust Fan (Pist...   \n",
       "1464  B01486F4G6  Borosil Jumbo 1000-Watt Grill Sandwich Maker (...   \n",
       "\n",
       "                                               category discounted_price  \\\n",
       "0     Computers&Accessories|Accessories&Peripherals|...             ₹399   \n",
       "1     Computers&Accessories|Accessories&Peripherals|...             ₹199   \n",
       "2     Computers&Accessories|Accessories&Peripherals|...             ₹199   \n",
       "3     Computers&Accessories|Accessories&Peripherals|...             ₹329   \n",
       "4     Computers&Accessories|Accessories&Peripherals|...             ₹154   \n",
       "...                                                 ...              ...   \n",
       "1460  Home&Kitchen|Kitchen&HomeAppliances|WaterPurif...             ₹379   \n",
       "1461  Home&Kitchen|Kitchen&HomeAppliances|SmallKitch...           ₹2,280   \n",
       "1462  Home&Kitchen|Heating,Cooling&AirQuality|RoomHe...           ₹2,219   \n",
       "1463  Home&Kitchen|Heating,Cooling&AirQuality|Fans|E...           ₹1,399   \n",
       "1464  Home&Kitchen|Kitchen&HomeAppliances|SmallKitch...           ₹2,863   \n",
       "\n",
       "     actual_price discount_percentage rating rating_count  \\\n",
       "0          ₹1,099                 64%    4.2       24,269   \n",
       "1            ₹349                 43%    4.0       43,994   \n",
       "2          ₹1,899                 90%    3.9        7,928   \n",
       "3            ₹699                 53%    4.2       94,363   \n",
       "4            ₹399                 61%    4.2       16,905   \n",
       "...           ...                 ...    ...          ...   \n",
       "1460         ₹919                 59%      4        1,090   \n",
       "1461       ₹3,045                 25%    4.1        4,118   \n",
       "1462       ₹3,080                 28%    3.6          468   \n",
       "1463       ₹1,890                 26%      4        8,031   \n",
       "1464       ₹3,690                 22%    4.3        6,987   \n",
       "\n",
       "                                          about_product  \\\n",
       "0     High Compatibility : Compatible With iPhone 12...   \n",
       "1     Compatible with all Type C enabled devices, be...   \n",
       "2     【 Fast Charger& Data Sync】-With built-in safet...   \n",
       "3     The boAt Deuce USB 300 2 in 1 cable is compati...   \n",
       "4     [CHARGE & SYNC FUNCTION]- This cable comes wit...   \n",
       "...                                                 ...   \n",
       "1460  SUPREME QUALITY 90 GRAM 3 LAYER THIK PP SPUN F...   \n",
       "1461                       230 Volts, 400 watts, 1 Year   \n",
       "1462  International design and styling|Two heat sett...   \n",
       "1463  Fan sweep area: 230 MM ; Noise level: (40 - 45...   \n",
       "1464  Brand-Borosil, Specification â€“ 23V ~ 5Hz;1 W...   \n",
       "\n",
       "                                                user_id  \\\n",
       "0     AG3D6O4STAQKAY2UVGEUV46KN35Q,AHMY5CWJMMK5BJRBB...   \n",
       "1     AECPFYFQVRUWC3KGNLJIOREFP5LQ,AGYYVPDD7YG7FYNBX...   \n",
       "2     AGU3BBQ2V2DDAMOAKGFAWDDQ6QHA,AESFLDV2PT363T2AQ...   \n",
       "3     AEWAZDZZJLQUYVOVGBEUKSLXHQ5A,AG5HTSFRRE6NL3M5S...   \n",
       "4     AE3Q6KSUK5P75D5HFYHCRAOLODSA,AFUGIFH5ZAFXRDSZH...   \n",
       "...                                                 ...   \n",
       "1460  AHITFY6AHALOFOHOZEOC6XBP4FEA,AFRABBODZJZQB6Z4U...   \n",
       "1461  AFG5FM3NEMOL6BNFRV2NK5FNJCHQ,AGEINTRN6Z563RMLH...   \n",
       "1462  AGVPWCMAHYQWJOQKMUJN4DW3KM5Q,AF4Q3E66MY4SR7YQZ...   \n",
       "1463  AF2JQCLSCY3QJATWUNNHUSVUPNQQ,AFDMLUXC5LS5RXDJS...   \n",
       "1464  AFGW5PT3R6ZAVQR4Y5MWVAKBZAYA,AG7QNJ2SCS5VS5VYY...   \n",
       "\n",
       "                                              user_name  \\\n",
       "0     Manav,Adarsh gupta,Sundeep,S.Sayeed Ahmed,jasp...   \n",
       "1     ArdKn,Nirbhay kumar,Sagar Viswanathan,Asp,Plac...   \n",
       "2     Kunal,Himanshu,viswanath,sai niharka,saqib mal...   \n",
       "3     Omkar dhale,JD,HEMALATHA,Ajwadh a.,amar singh ...   \n",
       "4     rahuls6099,Swasat Borah,Ajay Wadke,Pranali,RVK...   \n",
       "...                                                 ...   \n",
       "1460  Prabha ds,Raghuram bk,Real Deal,Amazon Custome...   \n",
       "1461  Manu Bhai,Naveenpittu,Evatira Sangma,JAGANNADH...   \n",
       "1462  Nehal Desai,Danish Parwez,Amazon Customer,Amaz...   \n",
       "1463  Shubham Dubey,E.GURUBARAN,Mayank S.,eusuf khan...   \n",
       "1464  Rajib,Ajay B,Vikas Kahol,PARDEEP,Anindya Prama...   \n",
       "\n",
       "                                              review_id  \\\n",
       "0     R3HXWT0LRP0NMF,R2AJM3LFTLZHFO,R6AQJGUP6P86,R1K...   \n",
       "1     RGIQEG07R9HS2,R1SMWZQ86XIN8U,R2J3Y1WL29GWDE,RY...   \n",
       "2     R3J3EQQ9TZI5ZJ,R3E7WBGK7ID0KV,RWU79XKQ6I1QF,R2...   \n",
       "3     R3EEUZKKK9J36I,R3HJVYCLYOY554,REDECAZ7AMPQC,R1...   \n",
       "4     R1BP4L2HH9TFUP,R16PVJEXKV6QZS,R2UPDB81N66T4P,R...   \n",
       "...                                                 ...   \n",
       "1460  R3G3XFHPBFF0E8,R3C0BZCD32EIGW,R2EBVBCN9QPD9R,R...   \n",
       "1461  R3DDL2UPKQ2CK9,R2SYYU1OATVIU5,R1VM993161IYRW,R...   \n",
       "1462  R1TLRJVW4STY5I,R2O455KRN493R1,R3Q5MVGBRIAS2G,R...   \n",
       "1463  R39Q2Y79MM9SWK,R3079BG1NIH6MB,R29A31ZELTZNJM,R...   \n",
       "1464  R20RBRZ0WEUJT9,ROKIFK9R2ISSE,R30EEG2FNJSN5I,R2...   \n",
       "\n",
       "                                           review_title  \\\n",
       "0     Satisfied,Charging is really fast,Value for mo...   \n",
       "1     A Good Braided Cable for Your Type C Device,Go...   \n",
       "2     Good speed for earlier versions,Good Product,W...   \n",
       "3     Good product,Good one,Nice,Really nice product...   \n",
       "4     As good as original,Decent,Good one for second...   \n",
       "...                                                 ...   \n",
       "1460  Received the product without spanner,Excellent...   \n",
       "1461  ok,everything was good couldn't return bcoz I ...   \n",
       "1462  very good,Work but front melt after 2 month,Go...   \n",
       "1463  Fan Speed is slow,Good quality,Good product,go...   \n",
       "1464  Works perfect,Ok good product,Nice Product. Re...   \n",
       "\n",
       "                                         review_content  \\\n",
       "0     Looks durable Charging is fine tooNo complains...   \n",
       "1     I ordered this cable to connect my phone to An...   \n",
       "2     Not quite durable and sturdy,https://m.media-a...   \n",
       "3     Good product,long wire,Charges good,Nice,I bou...   \n",
       "4     Bought this instead of original apple, does th...   \n",
       "...                                                 ...   \n",
       "1460  I received product without spanner,Excellent p...   \n",
       "1461  ok,got everything as mentioned but the measuri...   \n",
       "1462  plastic but cool body ,u have to find sturdy s...   \n",
       "1463  I have installed this in my kitchen working fi...   \n",
       "1464  It does it job perfectly..only issue is temp c...   \n",
       "\n",
       "                                               img_link  \\\n",
       "0     https://m.media-amazon.com/images/W/WEBP_40237...   \n",
       "1     https://m.media-amazon.com/images/W/WEBP_40237...   \n",
       "2     https://m.media-amazon.com/images/W/WEBP_40237...   \n",
       "3     https://m.media-amazon.com/images/I/41V5FtEWPk...   \n",
       "4     https://m.media-amazon.com/images/W/WEBP_40237...   \n",
       "...                                                 ...   \n",
       "1460  https://m.media-amazon.com/images/I/41fDdRtjfx...   \n",
       "1461  https://m.media-amazon.com/images/I/41gzDxk4+k...   \n",
       "1462  https://m.media-amazon.com/images/W/WEBP_40237...   \n",
       "1463  https://m.media-amazon.com/images/W/WEBP_40237...   \n",
       "1464  https://m.media-amazon.com/images/W/WEBP_40237...   \n",
       "\n",
       "                                           product_link  \n",
       "0     https://www.amazon.in/Wayona-Braided-WN3LG1-Sy...  \n",
       "1     https://www.amazon.in/Ambrane-Unbreakable-Char...  \n",
       "2     https://www.amazon.in/Sounce-iPhone-Charging-C...  \n",
       "3     https://www.amazon.in/Deuce-300-Resistant-Tang...  \n",
       "4     https://www.amazon.in/Portronics-Konnect-POR-1...  \n",
       "...                                                 ...  \n",
       "1460  https://www.amazon.in/Noir-Aqua-Spanner-Purifi...  \n",
       "1461  https://www.amazon.in/Prestige-Delight-PRWO-1-...  \n",
       "1462  https://www.amazon.in/Bajaj-RX-10-2000-Watt-Co...  \n",
       "1463  https://www.amazon.in/Havells-Ventilair-230mm-...  \n",
       "1464  https://www.amazon.in/Borosil-Jumbo-1000-Watt-...  \n",
       "\n",
       "[1465 rows x 16 columns]"
      ]
     },
     "execution_count": 2,
     "metadata": {},
     "output_type": "execute_result"
    }
   ],
   "source": [
    "df = pd.read_csv(\"amazon.csv\")\n",
    "df"
   ]
  },
  {
   "cell_type": "markdown",
   "id": "add7d831",
   "metadata": {},
   "source": [
    "## Data Understanding"
   ]
  },
  {
   "cell_type": "code",
   "execution_count": 3,
   "id": "e10ca26f",
   "metadata": {},
   "outputs": [
    {
     "data": {
      "text/plain": [
       "Index(['product_id', 'product_name', 'category', 'discounted_price',\n",
       "       'actual_price', 'discount_percentage', 'rating', 'rating_count',\n",
       "       'about_product', 'user_id', 'user_name', 'review_id', 'review_title',\n",
       "       'review_content', 'img_link', 'product_link'],\n",
       "      dtype='object')"
      ]
     },
     "execution_count": 3,
     "metadata": {},
     "output_type": "execute_result"
    }
   ],
   "source": [
    "df.columns"
   ]
  },
  {
   "cell_type": "code",
   "execution_count": 4,
   "id": "2146db68",
   "metadata": {
    "scrolled": true
   },
   "outputs": [
    {
     "name": "stdout",
     "output_type": "stream",
     "text": [
      "<class 'pandas.core.frame.DataFrame'>\n",
      "RangeIndex: 1465 entries, 0 to 1464\n",
      "Data columns (total 16 columns):\n",
      " #   Column               Non-Null Count  Dtype \n",
      "---  ------               --------------  ----- \n",
      " 0   product_id           1465 non-null   object\n",
      " 1   product_name         1465 non-null   object\n",
      " 2   category             1465 non-null   object\n",
      " 3   discounted_price     1465 non-null   object\n",
      " 4   actual_price         1465 non-null   object\n",
      " 5   discount_percentage  1465 non-null   object\n",
      " 6   rating               1465 non-null   object\n",
      " 7   rating_count         1463 non-null   object\n",
      " 8   about_product        1465 non-null   object\n",
      " 9   user_id              1465 non-null   object\n",
      " 10  user_name            1465 non-null   object\n",
      " 11  review_id            1465 non-null   object\n",
      " 12  review_title         1465 non-null   object\n",
      " 13  review_content       1465 non-null   object\n",
      " 14  img_link             1465 non-null   object\n",
      " 15  product_link         1465 non-null   object\n",
      "dtypes: object(16)\n",
      "memory usage: 183.2+ KB\n"
     ]
    }
   ],
   "source": [
    "df.info()"
   ]
  },
  {
   "cell_type": "markdown",
   "id": "d3facf28",
   "metadata": {},
   "source": [
    "## Data Cleaning"
   ]
  },
  {
   "cell_type": "code",
   "execution_count": 5,
   "id": "df999723",
   "metadata": {},
   "outputs": [],
   "source": [
    "## columns that has to be clean : ['discounted_price','actual_price', 'discount_percentage', 'rating', 'rating_count',]"
   ]
  },
  {
   "cell_type": "code",
   "execution_count": 6,
   "id": "4cfcce1f",
   "metadata": {
    "scrolled": true
   },
   "outputs": [
    {
     "data": {
      "text/plain": [
       "array(['₹399', '₹199', '₹329', '₹154', '₹149', '₹176.63', '₹229', '₹499',\n",
       "       '₹299', '₹219', '₹350', '₹159', '₹349', '₹13,999', '₹249',\n",
       "       '₹13,490', '₹970', '₹279', '₹59', '₹11,499', '₹14,999', '₹179',\n",
       "       '₹389', '₹599', '₹99', '₹899', '₹32,999', '₹209', '₹19,999',\n",
       "       '₹999', '₹333', '₹507', '₹309', '₹1,199', '₹799', '₹6,999', '₹230',\n",
       "       '₹649', '₹15,999', '₹348', '₹32,990', '₹139', '₹263', '₹7,999',\n",
       "       '₹1,599', '₹26,999', '₹115', '₹10,901', '₹1,434', '₹7,299', '₹325',\n",
       "       '₹29,999', '₹27,999', '₹30,990', '₹269', '₹24,999', '₹18,990',\n",
       "       '₹290', '₹345', '₹1,099', '₹719', '₹849', '₹21,999', '₹449',\n",
       "       '₹37,999', '₹7,390', '₹273.10', '₹15,990', '₹210', '₹1,299',\n",
       "       '₹347', '₹228', '₹1,499', '₹8,499', '₹20,990', '₹9,999', '₹489',\n",
       "       '₹23,999', '₹689', '₹1,699', '₹655', '₹749', '₹195', '₹416',\n",
       "       '₹368', '₹29,990', '₹339', '₹15,490', '₹9,490', '₹637', '₹1,089',\n",
       "       '₹12,499', '₹1,399', '₹88', '₹57.89', '₹205', '₹949', '₹379',\n",
       "       '₹8,990', '₹486', '₹5,699', '₹709', '₹47,990', '₹320', '₹129',\n",
       "       '₹225', '₹547', '₹259', '₹239', '₹467', '₹11,990', '₹252', '₹204',\n",
       "       '₹6,490', '₹235', '₹42,999', '₹173', '₹848.99', '₹1,249', '₹213',\n",
       "       '₹598', '₹31,999', '₹128.31', '₹254', '₹89', '₹549', '₹77,990',\n",
       "       '₹182', '₹96', '₹54,990', '₹439', '₹789', '₹790', '₹4,699',\n",
       "       '₹18,999', '₹1,990', '₹2,299', '₹35,999', '₹8,999', '₹917',\n",
       "       '₹45,999', '₹119', '₹21,990', '₹417.44', '₹215', '₹1,289', '₹609',\n",
       "       '₹1,850', '₹13,990', '₹185', '₹218', '₹893', '₹10,990', '₹16,999',\n",
       "       '₹699', '₹2,699', '₹246', '₹247', '₹1,369', '₹24,990', '₹61,999',\n",
       "       '₹24,499', '₹10,499', '₹197', '₹1,519', '₹46,999', '₹1,799',\n",
       "       '₹1,998', '₹1,999', '₹2,049', '₹6,499', '₹28,999', '₹569',\n",
       "       '₹1,898', '₹9,499', '₹959', '₹1,149', '₹1,219', '₹18,499', '₹369',\n",
       "       '₹12,999', '₹2,199', '₹16,499', '₹3,999', '₹2,998', '₹15,499',\n",
       "       '₹873', '₹539', '₹1,075', '₹529', '₹4,790', '₹33,999', '₹10,999',\n",
       "       '₹34,999', '₹2,999', '₹20,999', '₹22,999', '₹134', '₹7,499',\n",
       "       '₹1,324', '₹12,490', '₹17,999', '₹2,099', '₹337', '₹251', '₹95',\n",
       "       '₹4,499', '₹1,989', '₹4,999', '₹2,499', '₹79', '₹2,179', '₹44,999',\n",
       "       '₹2,599', '₹2,799', '₹3,799', '₹281', '₹7,998', '₹120', '₹7,915',\n",
       "       '₹1,055', '₹150', '₹474', '₹265', '₹37,990', '₹314', '₹365',\n",
       "       '₹289', '₹217', '₹1,220', '₹475', '₹798', '₹266', '₹50', '₹130',\n",
       "       '₹4,098', '₹519', '₹1,295', '₹1,889', '₹455', '₹1,059', '₹717',\n",
       "       '₹39', '₹889', '₹191', '₹522', '₹681', '₹429', '₹100', '₹1,049',\n",
       "       '₹656', '₹1,109', '₹169', '₹157', '₹479', '₹1,598', '₹294', '₹828',\n",
       "       '₹745', '₹1,549', '₹1,469', '₹198', '₹12,000', '₹6,299', '₹571',\n",
       "       '₹448', '₹579', '₹137', '₹1,495', '₹440', '₹1,329', '₹570',\n",
       "       '₹1,529', '₹190', '₹729', '₹480', '₹238', '₹1,349', '₹1,792',\n",
       "       '₹3,299', '₹125', '₹561', '₹5,599', '₹69', '₹478', '₹425', '₹378',\n",
       "       '₹1,815', '₹67', '₹5,799', '₹4,449', '₹629', '₹2,595', '₹90',\n",
       "       '₹1,345', '₹287', '₹879', '₹250', '₹469', '₹1,187', '₹328', '₹114',\n",
       "       '₹1,490', '₹575', '₹178', '₹939', '₹1,439', '₹175', '₹3,303',\n",
       "       '₹1,890', '₹310', '₹1,709', '₹2,025', '₹900', '₹2,490', '₹116',\n",
       "       '₹200', '₹2,649', '₹596', '₹330', '₹1,234', '₹272', '₹3,498',\n",
       "       '₹10,099', '₹397', '₹1,679', '₹354', '₹10,389', '₹1,409', '₹5,998',\n",
       "       '₹300', '₹535', '₹341', '₹5,899', '₹1,565', '₹326', '₹657',\n",
       "       '₹1,995', '₹1,500', '₹2,640', '₹5,299', '₹165', '₹398', '₹770',\n",
       "       '₹420', '₹8,349', '₹3,307', '₹380', '₹37,247', '₹298', '₹293',\n",
       "       '₹1,043', '₹1,464', '₹625', '₹1,290', '₹3,600', '₹6,549', '₹1,625',\n",
       "       '₹5,499', '₹2,148', '₹3,599', '₹351', '₹1,614', '₹678', '₹809',\n",
       "       '₹1,969', '₹1,665', '₹3,229', '₹1,260', '₹3,499', '₹1,321', '₹775',\n",
       "       '₹3,190', '₹6,199', '₹1,819', '₹3,249', '₹1,400', '₹355', '₹2,169',\n",
       "       '₹653', '₹4,789', '₹753', '₹353', '₹8,799', '₹2,095', '₹1,498',\n",
       "       '₹3,699', '₹177', '₹244', '₹1,959', '₹319', '₹9,590', '₹292',\n",
       "       '₹160', '₹600', '₹1,130', '₹3,199', '₹616', '₹610', '₹453',\n",
       "       '₹2,464', '₹2,719', '₹2,088', '₹2,399', '₹308', '₹245', '₹3,569',\n",
       "       '₹2,089', '₹2,339', '₹784', '₹1,695', '₹1,448', '₹6,990', '₹2,698',\n",
       "       '₹1,414', '₹5,999', '₹9,970', '₹698', '₹14,400', '₹664', '₹260',\n",
       "       '₹1,484', '₹4,280', '₹189', '₹1,449', '₹3,657.66', '₹1,849',\n",
       "       '₹8,199', '₹1,595', '₹1,182', '₹1,052', '₹1,547', '₹510', '₹1,899',\n",
       "       '₹14,499', '₹950', '₹7,199', '₹2,439', '₹7,799', '₹2,899',\n",
       "       '₹9,799', '₹669', '₹5,890', '₹9,199', '₹6,236', '₹2,742', '₹721',\n",
       "       '₹2,903', '₹1,656', '₹2,079', '₹3,179', '₹4,799', '₹948', '₹850',\n",
       "       '₹3,711', '₹980', '₹3,349', '₹2,249', '₹1,235', '₹6,800', '₹1,069',\n",
       "       '₹2,092', '₹3,859', '₹1,804', '₹6,525', '₹1,189', '₹2,590', '₹998',\n",
       "       '₹998.06', '₹8,886', '₹4,995', '₹395', '₹635', '₹27,900', '₹193',\n",
       "       '₹2,449', '₹2,286', '₹5,395', '₹559', '₹660', '₹419', '₹7,349',\n",
       "       '₹1,474', '₹3,645', '₹375', '₹2,976', '₹2,575', '₹1,649', '₹765',\n",
       "       '₹587', '₹12,609', '₹640', '₹979', '₹5,365', '₹929', '₹3,710',\n",
       "       '₹2,033', '₹9,495', '₹2,790', '₹645', '₹2,237.81', '₹8,699',\n",
       "       '₹42,990', '₹825', '₹161', '₹697', '₹688', '₹6,850', '₹1,090',\n",
       "       '₹295', '₹2,949', '₹335', '₹778', '₹1,190', '₹6,120', '₹3,685',\n",
       "       '₹8,599', '₹1,110', '₹759', '₹2,669', '₹85', '₹5,865', '₹1,928',\n",
       "       '₹1,456', '₹4,899', '₹3,290', '₹5,490', '₹3,041.67', '₹1,745',\n",
       "       '₹3,180', '₹390', '₹1,624', '₹184', '₹445', '₹1,601', '₹231',\n",
       "       '₹6,790', '₹1,982.84', '₹1,180', '₹253', '₹457', '₹426', '₹2,320',\n",
       "       '₹1,563', '₹3,487.77', '₹498', '₹2,695', '₹2,280', '₹2,219',\n",
       "       '₹2,863'], dtype=object)"
      ]
     },
     "execution_count": 6,
     "metadata": {},
     "output_type": "execute_result"
    }
   ],
   "source": [
    "df['discounted_price'].unique()\n",
    "\n",
    "## there are two character in price that we have remove i.e '₹' , ','."
   ]
  },
  {
   "cell_type": "code",
   "execution_count": 7,
   "id": "9364a549",
   "metadata": {},
   "outputs": [
    {
     "data": {
      "text/plain": [
       "0        399.0\n",
       "1        199.0\n",
       "2        199.0\n",
       "3        329.0\n",
       "4        154.0\n",
       "         ...  \n",
       "1460     379.0\n",
       "1461    2280.0\n",
       "1462    2219.0\n",
       "1463    1399.0\n",
       "1464    2863.0\n",
       "Name: discounted_price, Length: 1465, dtype: float64"
      ]
     },
     "execution_count": 7,
     "metadata": {},
     "output_type": "execute_result"
    }
   ],
   "source": [
    "df['discounted_price'] = df['discounted_price'].str.replace('₹','').str.replace(',' , '')\n",
    "df['discounted_price'] = df['discounted_price'].astype(float)\n",
    "df['discounted_price']"
   ]
  },
  {
   "cell_type": "code",
   "execution_count": 8,
   "id": "23e66b9e",
   "metadata": {
    "scrolled": true
   },
   "outputs": [
    {
     "data": {
      "text/plain": [
       "array(['₹1,099', '₹349', '₹1,899', '₹699', '₹399', '₹1,000', '₹499',\n",
       "       '₹299', '₹999', '₹339', '₹799', '₹700', '₹899', '₹24,999',\n",
       "       '₹21,990', '₹1,799', '₹22,900', '₹199', '₹19,990', '₹19,999',\n",
       "       '₹1,999', '₹750', '₹599', '₹666.66', '₹1,900', '₹45,999', '₹695',\n",
       "       '₹34,999', '₹1,599', '₹1,208', '₹475', '₹395', '₹2,199', '₹500',\n",
       "       '₹2,100', '₹12,999', '₹1,399', '₹21,999', '₹1,499', '₹47,900',\n",
       "       '₹845', '₹1,400', '₹14,990', '₹2,999', '₹42,999', '₹30,990',\n",
       "       '₹3,999', '₹249', '₹19,125', '₹1,299', '₹39,999', '₹40,990',\n",
       "       '₹52,900', '₹800', '₹31,999', '₹1,809', '₹29,999', '₹65,000',\n",
       "       '₹20,000', '₹23,990', '₹15,999', '₹44,990', '₹44,999', '₹1,700',\n",
       "       '₹595', '₹27,990', '₹1,200', '₹34,990', '₹1,500', '₹49,990',\n",
       "       '₹931', '₹2,399', '₹1,339', '₹20,900', '₹15,990', '₹1,600', '₹849',\n",
       "       '₹1,199', '₹22,990', '₹2,499', '₹47,990', '₹485', '₹18,990',\n",
       "       '₹11,000', '₹70,900', '₹549', '₹35,999', '₹1,699', '₹31,990',\n",
       "       '₹9,990', '₹16,990', '₹59,999', '₹600', '₹1,490', '₹2,299',\n",
       "       '₹4,999', '₹1,749', '₹1,100', '₹49,999', '₹56,790', '₹795', '₹798',\n",
       "       '₹995', '₹1,39,900', '₹85,000', '₹758', '₹4,699', '₹24,990',\n",
       "       '₹650', '₹3,100', '₹18,999', '₹69,900', '₹670', '₹79,990',\n",
       "       '₹35,000', '₹54,990', '₹50,999', '₹4,500', '₹28,900', '₹449',\n",
       "       '₹900', '₹1,052', '₹25,999', '₹3,500', '₹14,999', '₹51,990',\n",
       "       '₹69,999', '₹50,000', '₹19,499', '₹9,999', '₹7,990', '₹8,999',\n",
       "       '₹28,999', '₹6,990', '₹11,999', '₹1,800', '₹7,999', '₹17,999',\n",
       "       '₹20,999', '₹10,999', '₹8,499', '₹495', '₹16,999', '₹5,999',\n",
       "       '₹20,990', '₹3,990', '₹33,999', '₹38,999', '₹26,999', '₹649',\n",
       "       '₹171', '₹2,899', '₹29,990', '₹1,630', '₹13,499', '₹6,999',\n",
       "       '₹6,499', '₹2,990', '₹2,400', '₹149', '₹5,299', '₹32,999',\n",
       "       '₹39,990', '₹3,499', '₹2,599', '₹1,249', '₹9,499', '₹74,999',\n",
       "       '₹4,490', '₹895', '₹237', '₹1,995', '₹315', '₹50', '₹165',\n",
       "       '₹1,290', '₹2,498', '₹5,499', '₹1,350', '₹1,295', '₹761', '₹2,500',\n",
       "       '₹180', '₹225', '₹4,499', '₹550', '₹3,490', '₹250', '₹2,800',\n",
       "       '₹404', '₹160', '₹3,000', '₹861', '₹2,495', '₹13,750', '₹59',\n",
       "       '₹3,299', '₹375', '₹440', '₹2,000', '₹2,900', '₹100', '₹1,795',\n",
       "       '₹220', '₹1,650', '₹2,198', '₹4,100', '₹1,190', '₹99', '₹3,495',\n",
       "       '₹720', '₹590', '₹7,350', '₹2,595', '₹2,490', '₹4,990', '₹75',\n",
       "       '₹2,699', '₹5,734', '₹1,390', '₹3,295', '₹2,911', '₹175', '₹3,250',\n",
       "       '₹2,295', '₹450', '₹1,109', '₹1,929', '₹400', '₹120', '₹2,799',\n",
       "       '₹210', '₹2,890', '₹4,700', '₹4,332.96', '₹990', '₹5,490',\n",
       "       '₹2,790', '₹1,645', '₹310', '₹4,199', '₹4,000', '₹200', '₹230',\n",
       "       '₹2,796', '₹723', '₹12,499', '₹320', '₹3,875', '₹19,110', '₹150',\n",
       "       '₹775', '₹32,000', '₹1,300', '₹300', '₹535', '₹7,005', '₹2,895',\n",
       "       '₹3,195', '₹6,355', '₹7,500', '₹39', '₹37,999', '₹1,990', '₹1,949',\n",
       "       '₹1,547', '₹1,150', '₹1,090', '₹3,599', '₹420', '₹9,625', '₹6,100',\n",
       "       '₹59,890', '₹1,245', '₹1,695', '₹1,549', '₹1,445', '₹3,193',\n",
       "       '₹1,345', '₹6,190', '₹13,999', '₹2,995', '₹5,890', '₹13,150',\n",
       "       '₹785', '₹3,210', '₹1,595', '₹3,645', '₹7,950', '₹1,745', '₹1,545',\n",
       "       '₹5,000', '₹3,945', '₹2,099', '₹5,295', '₹3,595', '₹1,129',\n",
       "       '₹5,795', '₹875', '₹15,270', '₹4,195', '₹1,989', '₹1,111',\n",
       "       '₹10,400', '₹6,295', '₹9,650', '₹10,590', '₹89', '₹2,485',\n",
       "       '₹3,279', '₹3,799', '₹7,299', '₹625', '₹1,020', '₹8,990', '₹1,639',\n",
       "       '₹11,595', '₹1,750', '₹2,095', '₹2,300', '₹4,295', '₹749',\n",
       "       '₹1,775', '₹1,130', '₹9,455', '₹825', '₹9,995', '₹6,000', '₹5,550',\n",
       "       '₹4,590', '₹4,400', '₹5,190', '₹940', '₹79', '₹14,290', '₹1,950',\n",
       "       '₹3,190', '₹2,660', '₹59,900', '₹6,375', '₹350', '₹8,500',\n",
       "       '₹1,560', '₹6,500', '₹7,795', '₹5,995', '₹2,349', '₹4,775',\n",
       "       '₹1,230', '₹5,156', '₹19,825', '₹1,920', '₹16,000', '₹11,995',\n",
       "       '₹1,690', '₹1,790', '₹8,995', '₹239', '₹4,290', '₹640', '₹3,790',\n",
       "       '₹4,560', '₹2,600', '₹3,300', '₹23,559', '₹2,545', '₹5,500',\n",
       "       '₹12,150', '₹4,995', '₹7,506', '₹18,000', '₹1,850', '₹3,995',\n",
       "       '₹2,695', '₹2,290', '₹3,099', '₹1,075', '₹7,290', '₹3,398',\n",
       "       '₹1,620', '₹4,495', '₹980', '₹11,500', '₹3,550', '₹1,975',\n",
       "       '₹4,600', '₹10,295', '₹2,380', '₹8,820', '₹4,200', '₹1,282',\n",
       "       '₹11,850', '₹20,049', '₹24,850', '₹16,490', '₹975', '₹635',\n",
       "       '₹3,390', '₹1,010', '₹10,900', '₹4,005', '₹4,650', '₹24,500',\n",
       "       '₹6,070', '₹6,700', '₹970', '₹23,999', '₹850', '₹7,445', '₹1,395',\n",
       "       '₹4,330', '₹12,500', '₹2,385', '₹4,890', '₹3,899', '₹16,899',\n",
       "       '₹75,990', '₹747', '₹11,990', '₹4,849', '₹510', '₹2,550', '₹8,478',\n",
       "       '₹3,895', '₹5,495', '₹3,199', '₹7,776', '₹2,590', '₹6,299',\n",
       "       '₹4,799', '₹5,799', '₹7,200', '₹389', '₹13,049', '₹3,890', '₹260',\n",
       "       '₹8,073', '₹2,360', '₹11,495', '₹4,780', '₹10,995', '₹1,440',\n",
       "       '₹3,045', '₹3,290', '₹3,098', '₹919', '₹3,080', '₹1,890', '₹3,690'],\n",
       "      dtype=object)"
      ]
     },
     "execution_count": 8,
     "metadata": {},
     "output_type": "execute_result"
    }
   ],
   "source": [
    "df['actual_price'].unique()"
   ]
  },
  {
   "cell_type": "code",
   "execution_count": 9,
   "id": "d4e54020",
   "metadata": {},
   "outputs": [
    {
     "data": {
      "text/plain": [
       "0       1099.0\n",
       "1        349.0\n",
       "2       1899.0\n",
       "3        699.0\n",
       "4        399.0\n",
       "         ...  \n",
       "1460     919.0\n",
       "1461    3045.0\n",
       "1462    3080.0\n",
       "1463    1890.0\n",
       "1464    3690.0\n",
       "Name: actual_price, Length: 1465, dtype: float64"
      ]
     },
     "execution_count": 9,
     "metadata": {},
     "output_type": "execute_result"
    }
   ],
   "source": [
    "df['actual_price'] = df['actual_price'].str.replace('₹','').str.replace(',' , '')\n",
    "df['actual_price'] = df['actual_price'].astype(float)\n",
    "df['actual_price']"
   ]
  },
  {
   "cell_type": "code",
   "execution_count": 10,
   "id": "13d091d9",
   "metadata": {},
   "outputs": [
    {
     "data": {
      "text/plain": [
       "array(['64%', '43%', '90%', '53%', '61%', '85%', '65%', '23%', '50%',\n",
       "       '33%', '55%', '63%', '69%', '60%', '13%', '44%', '38%', '39%',\n",
       "       '46%', '41%', '70%', '42%', '72%', '25%', '51%', '73%', '0%',\n",
       "       '80%', '28%', '67%', '58%', '35%', '45%', '62%', '54%', '27%',\n",
       "       '77%', '56%', '78%', '31%', '86%', '47%', '37%', '75%', '32%',\n",
       "       '68%', '66%', '22%', '57%', '17%', '52%', '88%', '20%', '59%',\n",
       "       '40%', '26%', '29%', '83%', '71%', '15%', '76%', '48%', '82%',\n",
       "       '36%', '89%', '87%', '24%', '34%', '11%', '91%', '7%', '19%',\n",
       "       '79%', '21%', '81%', '18%', '49%', '30%', '84%', '10%', '6%',\n",
       "       '14%', '74%', '4%', '5%', '16%', '8%', '2%', '94%', '12%', '3%',\n",
       "       '9%'], dtype=object)"
      ]
     },
     "execution_count": 10,
     "metadata": {},
     "output_type": "execute_result"
    }
   ],
   "source": [
    "df['discount_percentage'].unique()\n",
    "# remove the % symbol."
   ]
  },
  {
   "cell_type": "code",
   "execution_count": 11,
   "id": "7cd9f423",
   "metadata": {},
   "outputs": [
    {
     "data": {
      "text/plain": [
       "0       64.0\n",
       "1       43.0\n",
       "2       90.0\n",
       "3       53.0\n",
       "4       61.0\n",
       "        ... \n",
       "1460    59.0\n",
       "1461    25.0\n",
       "1462    28.0\n",
       "1463    26.0\n",
       "1464    22.0\n",
       "Name: discount_percentage, Length: 1465, dtype: float64"
      ]
     },
     "execution_count": 11,
     "metadata": {},
     "output_type": "execute_result"
    }
   ],
   "source": [
    "df['discount_percentage'] = df['discount_percentage'].str.replace('%' , '').astype(float)\n",
    "df['discount_percentage']"
   ]
  },
  {
   "cell_type": "code",
   "execution_count": 12,
   "id": "10226753",
   "metadata": {},
   "outputs": [
    {
     "data": {
      "text/plain": [
       "array(['4.2', '4.0', '3.9', '4.1', '4.3', '4.4', '4.5', '3.7', '3.3',\n",
       "       '3.6', '3.4', '3.8', '3.5', '4.6', '3.2', '5.0', '4.7', '3.0',\n",
       "       '2.8', '4', '3.1', '4.8', '2.3', '|', '2', '3', '2.6', '2.9'],\n",
       "      dtype=object)"
      ]
     },
     "execution_count": 12,
     "metadata": {},
     "output_type": "execute_result"
    }
   ],
   "source": [
    "df['rating'].unique()\n",
    "## there is '|' in ratings, replace it with nan value"
   ]
  },
  {
   "cell_type": "code",
   "execution_count": 13,
   "id": "ddd90037",
   "metadata": {},
   "outputs": [
    {
     "data": {
      "text/plain": [
       "array(['4.2', '4.0', '3.9', '4.1', '4.3', '4.4', '4.5', '3.7', '3.3',\n",
       "       '3.6', '3.4', '3.8', '3.5', '4.6', '3.2', '5.0', '4.7', '3.0',\n",
       "       '2.8', '4', '3.1', '4.8', '2.3', 'nan', '2', '3', '2.6', '2.9'],\n",
       "      dtype=object)"
      ]
     },
     "execution_count": 13,
     "metadata": {},
     "output_type": "execute_result"
    }
   ],
   "source": [
    "df['rating'] = df['rating'].str.replace('|',str(np.nan))\n",
    "df['rating'].unique()"
   ]
  },
  {
   "cell_type": "code",
   "execution_count": 14,
   "id": "43fbbd59",
   "metadata": {},
   "outputs": [
    {
     "data": {
      "text/plain": [
       "array([4.2, 4. , 3.9, 4.1, 4.3, 4.4, 4.5, 3.7, 3.3, 3.6, 3.4, 3.8, 3.5,\n",
       "       4.6, 3.2, 5. , 4.7, 3. , 2.8, 3.1, 4.8, 2.3, nan, 2. , 2.6, 2.9])"
      ]
     },
     "execution_count": 14,
     "metadata": {},
     "output_type": "execute_result"
    }
   ],
   "source": [
    "df['rating'] = df['rating'].astype(float)\n",
    "df['rating'].unique()"
   ]
  },
  {
   "cell_type": "code",
   "execution_count": 15,
   "id": "a1e2c8d3",
   "metadata": {},
   "outputs": [
    {
     "data": {
      "text/plain": [
       "array(['24,269', '43,994', '7,928', ..., '468', '8,031', '6,987'],\n",
       "      dtype=object)"
      ]
     },
     "execution_count": 15,
     "metadata": {},
     "output_type": "execute_result"
    }
   ],
   "source": [
    "df['rating_count'].unique()"
   ]
  },
  {
   "cell_type": "code",
   "execution_count": 16,
   "id": "9cc677d1",
   "metadata": {},
   "outputs": [
    {
     "data": {
      "text/plain": [
       "0       24269.0\n",
       "1       43994.0\n",
       "2        7928.0\n",
       "3       94363.0\n",
       "4       16905.0\n",
       "         ...   \n",
       "1460     1090.0\n",
       "1461     4118.0\n",
       "1462      468.0\n",
       "1463     8031.0\n",
       "1464     6987.0\n",
       "Name: rating_count, Length: 1465, dtype: float64"
      ]
     },
     "execution_count": 16,
     "metadata": {},
     "output_type": "execute_result"
    }
   ],
   "source": [
    "df['rating_count'] = df['rating_count'].str.replace(',','')\n",
    "df['rating_count'] = pd.to_numeric(df['rating_count'])\n",
    "df['rating_count']"
   ]
  },
  {
   "cell_type": "code",
   "execution_count": 17,
   "id": "13d4a81c",
   "metadata": {
    "scrolled": true
   },
   "outputs": [
    {
     "name": "stdout",
     "output_type": "stream",
     "text": [
      "<class 'pandas.core.frame.DataFrame'>\n",
      "RangeIndex: 1465 entries, 0 to 1464\n",
      "Data columns (total 16 columns):\n",
      " #   Column               Non-Null Count  Dtype  \n",
      "---  ------               --------------  -----  \n",
      " 0   product_id           1465 non-null   object \n",
      " 1   product_name         1465 non-null   object \n",
      " 2   category             1465 non-null   object \n",
      " 3   discounted_price     1465 non-null   float64\n",
      " 4   actual_price         1465 non-null   float64\n",
      " 5   discount_percentage  1465 non-null   float64\n",
      " 6   rating               1464 non-null   float64\n",
      " 7   rating_count         1463 non-null   float64\n",
      " 8   about_product        1465 non-null   object \n",
      " 9   user_id              1465 non-null   object \n",
      " 10  user_name            1465 non-null   object \n",
      " 11  review_id            1465 non-null   object \n",
      " 12  review_title         1465 non-null   object \n",
      " 13  review_content       1465 non-null   object \n",
      " 14  img_link             1465 non-null   object \n",
      " 15  product_link         1465 non-null   object \n",
      "dtypes: float64(5), object(11)\n",
      "memory usage: 183.2+ KB\n"
     ]
    }
   ],
   "source": [
    "df.info()"
   ]
  },
  {
   "cell_type": "markdown",
   "id": "35330edc",
   "metadata": {},
   "source": [
    "## Segregating numeric and categorical columns "
   ]
  },
  {
   "cell_type": "code",
   "execution_count": 18,
   "id": "b713cc94",
   "metadata": {},
   "outputs": [
    {
     "data": {
      "text/plain": [
       "Index(['product_id', 'product_name', 'category', 'discounted_price',\n",
       "       'actual_price', 'discount_percentage', 'rating', 'rating_count',\n",
       "       'about_product', 'user_id', 'user_name', 'review_id', 'review_title',\n",
       "       'review_content', 'img_link', 'product_link'],\n",
       "      dtype='object')"
      ]
     },
     "execution_count": 18,
     "metadata": {},
     "output_type": "execute_result"
    }
   ],
   "source": [
    "df.columns"
   ]
  },
  {
   "cell_type": "code",
   "execution_count": 19,
   "id": "f60fd7fc",
   "metadata": {},
   "outputs": [
    {
     "data": {
      "text/plain": [
       "['product_id',\n",
       " 'product_name',\n",
       " 'category',\n",
       " 'about_product',\n",
       " 'user_id',\n",
       " 'user_name',\n",
       " 'review_id',\n",
       " 'review_title',\n",
       " 'review_content',\n",
       " 'img_link',\n",
       " 'product_link']"
      ]
     },
     "execution_count": 19,
     "metadata": {},
     "output_type": "execute_result"
    }
   ],
   "source": [
    "## categorical columns\n",
    "cat_col = [col for col in df.columns if df[col].dtype == 'O']\n",
    "cat_col"
   ]
  },
  {
   "cell_type": "code",
   "execution_count": 20,
   "id": "b44256a3",
   "metadata": {},
   "outputs": [
    {
     "data": {
      "text/plain": [
       "['discounted_price',\n",
       " 'actual_price',\n",
       " 'discount_percentage',\n",
       " 'rating',\n",
       " 'rating_count']"
      ]
     },
     "execution_count": 20,
     "metadata": {},
     "output_type": "execute_result"
    }
   ],
   "source": [
    "## numerical columns\n",
    "num_col = [col for col in df.columns if df[col].dtype != 'O']\n",
    "num_col"
   ]
  },
  {
   "cell_type": "code",
   "execution_count": 21,
   "id": "6193787e",
   "metadata": {},
   "outputs": [
    {
     "data": {
      "text/plain": [
       "array(['Computers&Accessories|Accessories&Peripherals|Cables&Accessories|Cables|USBCables',\n",
       "       'Computers&Accessories|NetworkingDevices|NetworkAdapters|WirelessUSBAdapters',\n",
       "       'Electronics|HomeTheater,TV&Video|Accessories|Cables|HDMICables',\n",
       "       'Electronics|HomeTheater,TV&Video|Televisions|SmartTelevisions',\n",
       "       'Electronics|HomeTheater,TV&Video|Accessories|RemoteControls',\n",
       "       'Electronics|HomeTheater,TV&Video|Televisions|StandardTelevisions',\n",
       "       'Electronics|HomeTheater,TV&Video|Accessories|TVMounts,Stands&Turntables|TVWall&CeilingMounts',\n",
       "       'Electronics|HomeTheater,TV&Video|Accessories|Cables|RCACables',\n",
       "       'Electronics|HomeAudio|Accessories|SpeakerAccessories|Mounts',\n",
       "       'Electronics|HomeTheater,TV&Video|Accessories|Cables|OpticalCables',\n",
       "       'Electronics|HomeTheater,TV&Video|Projectors',\n",
       "       'Electronics|HomeAudio|Accessories|Adapters',\n",
       "       'Electronics|HomeTheater,TV&Video|SatelliteEquipment|SatelliteReceivers',\n",
       "       'Computers&Accessories|Accessories&Peripherals|Cables&Accessories|Cables|DVICables',\n",
       "       'Electronics|HomeTheater,TV&Video|Accessories|Cables|SpeakerCables',\n",
       "       'Electronics|HomeAudio|MediaStreamingDevices|StreamingClients',\n",
       "       'Electronics|HomeTheater,TV&Video|AVReceivers&Amplifiers',\n",
       "       'Electronics|HomeAudio|Speakers|TowerSpeakers',\n",
       "       'Electronics|HomeTheater,TV&Video|Accessories|3DGlasses',\n",
       "       'Electronics|WearableTechnology|SmartWatches',\n",
       "       'Electronics|Mobiles&Accessories|MobileAccessories|Chargers|PowerBanks',\n",
       "       'Electronics|Mobiles&Accessories|Smartphones&BasicMobiles|Smartphones',\n",
       "       'Electronics|Accessories|MemoryCards|MicroSD',\n",
       "       'Electronics|Mobiles&Accessories|Smartphones&BasicMobiles|BasicMobiles',\n",
       "       'Electronics|Headphones,Earbuds&Accessories|Headphones|In-Ear',\n",
       "       'Electronics|Mobiles&Accessories|MobileAccessories|Chargers|AutomobileChargers',\n",
       "       'Electronics|Mobiles&Accessories|MobileAccessories|AutomobileAccessories|Cradles',\n",
       "       'Electronics|Mobiles&Accessories|MobileAccessories|Chargers|WallChargers',\n",
       "       'Electronics|Mobiles&Accessories|MobileAccessories|Cables&Adapters|OTGAdapters',\n",
       "       'Electronics|Mobiles&Accessories|MobileAccessories|Photo&VideoAccessories|Tripods',\n",
       "       'Electronics|Mobiles&Accessories|MobileAccessories|Photo&VideoAccessories|SelfieSticks',\n",
       "       'Electronics|Mobiles&Accessories|MobileAccessories|Stands',\n",
       "       'Computers&Accessories|Accessories&Peripherals|Cables&Accessories|CableConnectionProtectors',\n",
       "       'Electronics|Mobiles&Accessories|MobileAccessories|Décor',\n",
       "       'Electronics|Mobiles&Accessories|MobileAccessories|Maintenance,Upkeep&Repairs|ScreenProtectors',\n",
       "       'Electronics|Mobiles&Accessories|MobileAccessories|StylusPens',\n",
       "       'Electronics|Mobiles&Accessories|MobileAccessories|Mounts|Bedstand&DeskMounts',\n",
       "       'Electronics|Mobiles&Accessories|MobileAccessories|Cases&Covers|BasicCases',\n",
       "       'Electronics|Mobiles&Accessories|MobileAccessories|Mounts|HandlebarMounts',\n",
       "       'Electronics|Headphones,Earbuds&Accessories|Headphones|On-Ear',\n",
       "       'Computers&Accessories|Accessories&Peripherals|LaptopAccessories|CameraPrivacyCovers',\n",
       "       'Electronics|Headphones,Earbuds&Accessories|Adapters',\n",
       "       'Electronics|Mobiles&Accessories|MobileAccessories|Décor|PhoneCharms',\n",
       "       'Electronics|Mobiles&Accessories|MobileAccessories|Mounts|Shower&WallMounts',\n",
       "       'Computers&Accessories|ExternalDevices&DataStorage|PenDrives',\n",
       "       'Computers&Accessories|Accessories&Peripherals|Keyboards,Mice&InputDevices|Mice',\n",
       "       'Computers&Accessories|Accessories&Peripherals|Keyboards,Mice&InputDevices|GraphicTablets',\n",
       "       'Computers&Accessories|Accessories&Peripherals|LaptopAccessories|Lapdesks',\n",
       "       'Computers&Accessories|Accessories&Peripherals|LaptopAccessories|NotebookComputerStands',\n",
       "       'Computers&Accessories|Accessories&Peripherals|Keyboards,Mice&InputDevices|Keyboards',\n",
       "       'MusicalInstruments|Microphones|Condenser',\n",
       "       'Electronics|GeneralPurposeBatteries&BatteryChargers|DisposableBatteries',\n",
       "       'OfficeProducts|OfficePaperProducts|Paper|Stationery|Pens,Pencils&WritingSupplies|Pens&Refills|GelInkRollerballPens',\n",
       "       'Home&Kitchen|CraftMaterials|Scrapbooking|Tape',\n",
       "       'Computers&Accessories|Accessories&Peripherals|Keyboards,Mice&InputDevices|Keyboard&MouseSets',\n",
       "       'Computers&Accessories|ExternalDevices&DataStorage|ExternalHardDisks',\n",
       "       'Electronics|Cameras&Photography|VideoCameras',\n",
       "       'Electronics|Cameras&Photography|Accessories|Tripods&Monopods|Tabletop&TravelTripods',\n",
       "       'OfficeProducts|OfficeElectronics|Calculators|Scientific',\n",
       "       'Computers&Accessories|NetworkingDevices|Repeaters&Extenders',\n",
       "       'Electronics|Cameras&Photography|Accessories|Tripods&Monopods|TripodLegs',\n",
       "       'Computers&Accessories|Printers,Inks&Accessories|Inks,Toners&Cartridges|InkjetInkCartridges',\n",
       "       'Computers&Accessories|Accessories&Peripherals|Keyboards,Mice&InputDevices|Keyboard&MiceAccessories|DustCovers',\n",
       "       'Computers&Accessories|Accessories&Peripherals|PCGamingPeripherals|GamingMice',\n",
       "       'Home&Kitchen|CraftMaterials|PaintingMaterials|Paints',\n",
       "       'Computers&Accessories|Accessories&Peripherals|Keyboards,Mice&InputDevices|Keyboard&MiceAccessories|MousePads',\n",
       "       'Computers&Accessories|Accessories&Peripherals|HardDiskBags',\n",
       "       'Electronics|Cameras&Photography|Flashes|Macro&RinglightFlashes',\n",
       "       'Computers&Accessories|NetworkingDevices',\n",
       "       'Computers&Accessories|NetworkingDevices|Routers',\n",
       "       'Electronics|Headphones,Earbuds&Accessories|Headphones|Over-Ear',\n",
       "       'Electronics|HomeAudio|Speakers|BluetoothSpeakers',\n",
       "       'Electronics|GeneralPurposeBatteries&BatteryChargers',\n",
       "       'OfficeProducts|OfficePaperProducts|Paper|Stationery|Notebooks,WritingPads&Diaries|WireboundNotebooks',\n",
       "       'Electronics|GeneralPurposeBatteries&BatteryChargers|RechargeableBatteries',\n",
       "       'Computers&Accessories|NetworkingDevices|NetworkAdapters|BluetoothAdapters',\n",
       "       'Computers&Accessories|Accessories&Peripherals|Adapters|USBtoUSBAdapters',\n",
       "       'Electronics|Cameras&Photography|Accessories|Tripods&Monopods|CompleteTripodUnits',\n",
       "       'OfficeProducts|OfficePaperProducts|Paper|Stationery|Notebooks,WritingPads&Diaries|Notepads&MemoBooks',\n",
       "       'Electronics|Cameras&Photography|Accessories|Film',\n",
       "       'Computers&Accessories|Monitors',\n",
       "       'Computers&Accessories|Accessories&Peripherals|USBGadgets|Lamps',\n",
       "       'Electronics|Cameras&Photography|Accessories|Cleaners|CleaningKits',\n",
       "       'Electronics|Cameras&Photography|SecurityCameras|DomeCameras',\n",
       "       'Computers&Accessories|Accessories&Peripherals|TabletAccessories|ScreenProtectors',\n",
       "       'Computers&Accessories|Accessories&Peripherals|PCGamingPeripherals|Gamepads',\n",
       "       'OfficeProducts|OfficeElectronics|Calculators|Basic',\n",
       "       'Computers&Accessories|Accessories&Peripherals|USBHubs',\n",
       "       'Computers&Accessories|Accessories&Peripherals|Audio&VideoAccessories|PCMicrophones',\n",
       "       'Electronics|HomeAudio|Speakers|OutdoorSpeakers',\n",
       "       'Computers&Accessories|Accessories&Peripherals|LaptopAccessories|Bags&Sleeves|LaptopSleeves&Slipcases',\n",
       "       'Computers&Accessories|ExternalDevices&DataStorage|ExternalMemoryCardReaders',\n",
       "       'OfficeProducts|OfficePaperProducts|Paper|Stationery|Pens,Pencils&WritingSupplies|Pens&Refills|BottledInk',\n",
       "       'OfficeProducts|OfficePaperProducts|Paper|Stationery|Notebooks,WritingPads&Diaries|CompositionNotebooks',\n",
       "       'OfficeProducts|OfficePaperProducts|Paper|Stationery|Pens,Pencils&WritingSupplies|Pens&Refills|RetractableBallpointPens',\n",
       "       'Computers&Accessories|Accessories&Peripherals|Cables&Accessories|Cables|EthernetCables',\n",
       "       'Computers&Accessories|Components|Memory',\n",
       "       'Computers&Accessories|Accessories&Peripherals|UninterruptedPowerSupplies',\n",
       "       'Electronics|Headphones,Earbuds&Accessories|Cases',\n",
       "       'Electronics|Accessories|MemoryCards|SecureDigitalCards',\n",
       "       'Electronics|Mobiles&Accessories|MobileAccessories|Photo&VideoAccessories|Flashes&SelfieLights|SelfieLights',\n",
       "       'Computers&Accessories|Accessories&Peripherals|Audio&VideoAccessories|Webcams&VoIPEquipment|Webcams',\n",
       "       'Computers&Accessories|Accessories&Peripherals|LaptopAccessories|CoolingPads',\n",
       "       'Computers&Accessories|Accessories&Peripherals|LaptopAccessories',\n",
       "       'Computers&Accessories|Accessories&Peripherals|TabletAccessories|Stands',\n",
       "       'HomeImprovement|Electrical|Adapters&Multi-Outlets',\n",
       "       'OfficeProducts|OfficePaperProducts|Paper|Copy&PrintingPaper|ColouredPaper',\n",
       "       'Computers&Accessories|Components|InternalSolidStateDrives',\n",
       "       'Electronics|HomeAudio|Speakers|MultimediaSpeakerSystems',\n",
       "       'Computers&Accessories|NetworkingDevices|DataCards&Dongles',\n",
       "       'Computers&Accessories|Accessories&Peripherals|LaptopAccessories|LaptopChargers&PowerSupplies',\n",
       "       'Computers&Accessories|Accessories&Peripherals|Audio&VideoAccessories|PCSpeakers',\n",
       "       'Electronics|Cameras&Photography|Accessories|Batteries&Chargers|BatteryChargers',\n",
       "       'Computers&Accessories|Accessories&Peripherals|TabletAccessories|Bags,Cases&Sleeves|Cases',\n",
       "       'OfficeProducts|OfficePaperProducts|Paper|Stationery|Pens,Pencils&WritingSupplies|Pens&Refills|StickBallpointPens',\n",
       "       'Home&Kitchen|CraftMaterials|DrawingMaterials|DrawingMedia|Pencils|WoodenPencils',\n",
       "       'Computers&Accessories|Components|InternalHardDrives',\n",
       "       'Computers&Accessories|Printers,Inks&Accessories|Printers',\n",
       "       'Home&Kitchen|CraftMaterials|DrawingMaterials|DrawingMedia|Pens',\n",
       "       'Computers&Accessories|Accessories&Peripherals|Cables&Accessories|Cables|SATACables',\n",
       "       'Computers&Accessories|Accessories&Peripherals|Audio&VideoAccessories|PCHeadsets',\n",
       "       'Computers&Accessories|Accessories&Peripherals|PCGamingPeripherals|GamingKeyboards',\n",
       "       'Electronics|HomeAudio|Speakers|SoundbarSpeakers',\n",
       "       'Electronics|Headphones,Earbuds&Accessories|Earpads',\n",
       "       'Computers&Accessories|Printers,Inks&Accessories|Printers|InkjetPrinters',\n",
       "       'Toys&Games|Arts&Crafts|Drawing&PaintingSupplies|ColouringPens&Markers',\n",
       "       'Computers&Accessories|Accessories&Peripherals|PCGamingPeripherals|Headsets',\n",
       "       'Computers&Accessories|ExternalDevices&DataStorage|ExternalSolidStateDrives',\n",
       "       'Computers&Accessories|NetworkingDevices|NetworkAdapters|PowerLANAdapters',\n",
       "       'Computers&Accessories|Printers,Inks&Accessories|Inks,Toners&Cartridges|InkjetInkRefills&Kits',\n",
       "       'OfficeProducts|OfficePaperProducts|Paper|Stationery|Notebooks,WritingPads&Diaries',\n",
       "       'Electronics|Cameras&Photography|Accessories|PhotoStudio&Lighting|PhotoBackgroundAccessories|BackgroundSupports',\n",
       "       'OfficeProducts|OfficeElectronics|Calculators|Financial&Business',\n",
       "       'Electronics|PowerAccessories|SurgeProtectors',\n",
       "       'Computers&Accessories|Tablets',\n",
       "       'HomeImprovement|Electrical|CordManagement',\n",
       "       'Home&Kitchen|CraftMaterials|PaintingMaterials',\n",
       "       'Computers&Accessories|Printers,Inks&Accessories|Inks,Toners&Cartridges|TonerCartridges',\n",
       "       'OfficeProducts|OfficePaperProducts|Paper|Stationery|Pens,Pencils&WritingSupplies|Pens&Refills|LiquidInkRollerballPens',\n",
       "       'OfficeProducts|OfficePaperProducts|Paper|Stationery|Pens,Pencils&WritingSupplies|Pens&Refills|FountainPens',\n",
       "       'Computers&Accessories|Accessories&Peripherals|HardDriveAccessories|Caddies',\n",
       "       'Computers&Accessories|Laptops|TraditionalLaptops',\n",
       "       'Home&Kitchen|Kitchen&HomeAppliances|SmallKitchenAppliances|Kettles&HotWaterDispensers|ElectricKettles',\n",
       "       'Home&Kitchen|Heating,Cooling&AirQuality|RoomHeaters|ElectricHeaters',\n",
       "       'Home&Kitchen|Heating,Cooling&AirQuality|RoomHeaters|FanHeaters',\n",
       "       'Home&Kitchen|Kitchen&HomeAppliances|Vacuum,Cleaning&Ironing|Irons,Steamers&Accessories|LintShavers',\n",
       "       'Home&Kitchen|Kitchen&HomeAppliances|SmallKitchenAppliances|DigitalKitchenScales',\n",
       "       'Home&Kitchen|Kitchen&Dining|KitchenTools|ManualChoppers&Chippers|Choppers',\n",
       "       'Home&Kitchen|Kitchen&HomeAppliances|SmallKitchenAppliances|InductionCooktop',\n",
       "       'Home&Kitchen|Kitchen&HomeAppliances|SmallKitchenAppliances|HandBlenders',\n",
       "       'Home&Kitchen|Kitchen&HomeAppliances|Vacuum,Cleaning&Ironing|Irons,Steamers&Accessories|Irons|DryIrons',\n",
       "       'Home&Kitchen|Kitchen&HomeAppliances|SmallKitchenAppliances|MixerGrinders',\n",
       "       'Home&Kitchen|Heating,Cooling&AirQuality|WaterHeaters&Geysers|InstantWaterHeaters',\n",
       "       'Home&Kitchen|Heating,Cooling&AirQuality|RoomHeaters',\n",
       "       'Home&Kitchen|Kitchen&HomeAppliances|SmallKitchenAppliances|Kettles&HotWaterDispensers|Kettle&ToasterSets',\n",
       "       'Home&Kitchen|Heating,Cooling&AirQuality|WaterHeaters&Geysers|StorageWaterHeaters',\n",
       "       'Home&Kitchen|Heating,Cooling&AirQuality|WaterHeaters&Geysers|ImmersionRods',\n",
       "       'Home&Kitchen|Kitchen&HomeAppliances|SmallKitchenAppliances|DeepFatFryers|AirFryers',\n",
       "       'Home&Kitchen|HomeStorage&Organization|LaundryOrganization|LaundryBaskets',\n",
       "       'Home&Kitchen|Kitchen&HomeAppliances|Vacuum,Cleaning&Ironing|Irons,Steamers&Accessories|Irons|SteamIrons',\n",
       "       'Home&Kitchen|Kitchen&HomeAppliances|SmallKitchenAppliances|JuicerMixerGrinders',\n",
       "       'Home&Kitchen|Kitchen&HomeAppliances|Vacuum,Cleaning&Ironing|Vacuums&FloorCare|Vacuums|HandheldVacuums',\n",
       "       'Home&Kitchen|Kitchen&HomeAppliances|SmallKitchenAppliances|EggBoilers',\n",
       "       'Home&Kitchen|Kitchen&HomeAppliances|SmallKitchenAppliances|SandwichMakers',\n",
       "       'Home&Kitchen|Kitchen&HomeAppliances|SmallKitchenAppliances|MiniFoodProcessors&Choppers',\n",
       "       'Home&Kitchen|Kitchen&HomeAppliances|SmallKitchenAppliances|DigitalKitchenScales|DigitalScales',\n",
       "       'Home&Kitchen|Kitchen&HomeAppliances|SmallKitchenAppliances|VacuumSealers',\n",
       "       'Home&Kitchen|Heating,Cooling&AirQuality|Fans|CeilingFans',\n",
       "       'Home&Kitchen|Kitchen&HomeAppliances|Vacuum,Cleaning&Ironing|Vacuums&FloorCare|Vacuums|CanisterVacuums',\n",
       "       'Home&Kitchen|Kitchen&HomeAppliances|Vacuum,Cleaning&Ironing|PressureWashers,Steam&WindowCleaners',\n",
       "       'Home&Kitchen|Heating,Cooling&AirQuality|RoomHeaters|HalogenHeaters',\n",
       "       'Home&Kitchen|Kitchen&HomeAppliances|SmallKitchenAppliances|Pop-upToasters',\n",
       "       'Home&Kitchen|Heating,Cooling&AirQuality|RoomHeaters|HeatConvectors',\n",
       "       'Home&Kitchen|Kitchen&HomeAppliances|Coffee,Tea&Espresso|CoffeeGrinders|ElectricGrinders',\n",
       "       'Home&Kitchen|Heating,Cooling&AirQuality|Fans|ExhaustFans',\n",
       "       'Home&Kitchen|Kitchen&HomeAppliances|Coffee,Tea&Espresso|DripCoffeeMachines',\n",
       "       'Home&Kitchen|Kitchen&HomeAppliances|WaterPurifiers&Accessories|WaterPurifierAccessories',\n",
       "       'Home&Kitchen|Kitchen&HomeAppliances|WaterPurifiers&Accessories|WaterCartridges',\n",
       "       'Home&Kitchen|Kitchen&HomeAppliances|SmallKitchenAppliances|Rice&PastaCookers',\n",
       "       'Car&Motorbike|CarAccessories|InteriorAccessories|AirPurifiers&Ionizers',\n",
       "       'Home&Kitchen|Kitchen&HomeAppliances|Vacuum,Cleaning&Ironing|Vacuums&FloorCare|Vacuums|Wet-DryVacuums',\n",
       "       'Home&Kitchen|Heating,Cooling&AirQuality|AirPurifiers|HEPAAirPurifiers',\n",
       "       'Home&Kitchen|Kitchen&HomeAppliances|WaterPurifiers&Accessories|WaterFilters&Purifiers',\n",
       "       'Home&Kitchen|HomeStorage&Organization|LaundryOrganization|LaundryBags',\n",
       "       'Home&Kitchen|Kitchen&HomeAppliances|SewingMachines&Accessories|Sewing&EmbroideryMachines',\n",
       "       'Home&Kitchen|HomeStorage&Organization|LaundryOrganization|IroningAccessories|SprayBottles',\n",
       "       'Home&Kitchen|Kitchen&HomeAppliances|SmallKitchenAppliances|HandMixers',\n",
       "       'Home&Kitchen|Kitchen&HomeAppliances|SmallKitchenAppliances|Mills&Grinders|WetGrinders',\n",
       "       'Home&Kitchen|Kitchen&HomeAppliances|SmallKitchenAppliances|OvenToasterGrills',\n",
       "       'Home&Kitchen|Kitchen&HomeAppliances|SmallKitchenAppliances|Juicers',\n",
       "       'Home&Kitchen|Kitchen&HomeAppliances|SmallKitchenAppliances',\n",
       "       'Health&PersonalCare|HomeMedicalSupplies&Equipment|HealthMonitors|WeighingScales|DigitalBathroomScales',\n",
       "       'Home&Kitchen|Kitchen&HomeAppliances|Coffee,Tea&Espresso|EspressoMachines',\n",
       "       'Home&Kitchen|Heating,Cooling&AirQuality|Fans|TableFans',\n",
       "       'Home&Kitchen|Kitchen&HomeAppliances|Coffee,Tea&Espresso|MilkFrothers',\n",
       "       'Home&Kitchen|Heating,Cooling&AirQuality|Humidifiers',\n",
       "       'Home&Kitchen|Kitchen&HomeAppliances|SmallKitchenAppliances|SmallApplianceParts&Accessories|StandMixerAccessories',\n",
       "       'Home&Kitchen|Kitchen&HomeAppliances|Vacuum,Cleaning&Ironing|Vacuums&FloorCare|Vacuums|RoboticVacuums',\n",
       "       'Home&Kitchen|Kitchen&HomeAppliances|SmallKitchenAppliances|YogurtMakers',\n",
       "       'Home&Kitchen|Kitchen&HomeAppliances|SmallKitchenAppliances|Juicers|ColdPressJuicers',\n",
       "       'Home&Kitchen|Heating,Cooling&AirQuality|AirConditioners|Split-SystemAirConditioners',\n",
       "       'Home&Kitchen|Kitchen&HomeAppliances|SmallKitchenAppliances|SmallApplianceParts&Accessories',\n",
       "       'Home&Kitchen|Kitchen&HomeAppliances|SmallKitchenAppliances|WaffleMakers&Irons',\n",
       "       'Home&Kitchen|Kitchen&HomeAppliances|Coffee,Tea&Espresso|StovetopEspressoPots',\n",
       "       'Home&Kitchen|Kitchen&HomeAppliances|Coffee,Tea&Espresso|CoffeeMakerAccessories|MeasuringSpoons',\n",
       "       'Home&Kitchen|Kitchen&HomeAppliances|Coffee,Tea&Espresso|CoffeePresses',\n",
       "       'Home&Kitchen|Kitchen&HomeAppliances|SmallKitchenAppliances|RotiMakers',\n",
       "       'Home&Kitchen|Heating,Cooling&AirQuality|Parts&Accessories|FanParts&Accessories',\n",
       "       'Home&Kitchen|Kitchen&HomeAppliances|SmallKitchenAppliances|StandMixers',\n",
       "       'Home&Kitchen|Heating,Cooling&AirQuality|Fans|PedestalFans',\n",
       "       'Home&Kitchen|Kitchen&HomeAppliances|Vacuum,Cleaning&Ironing|Vacuums&FloorCare|VacuumAccessories|VacuumBags|HandheldBags'],\n",
       "      dtype=object)"
      ]
     },
     "execution_count": 21,
     "metadata": {},
     "output_type": "execute_result"
    }
   ],
   "source": [
    "df['category'].unique()"
   ]
  },
  {
   "cell_type": "code",
   "execution_count": 22,
   "id": "c2efd50e",
   "metadata": {},
   "outputs": [
    {
     "ename": "SyntaxError",
     "evalue": "only single target (not tuple) can be annotated (2874371024.py, line 1)",
     "output_type": "error",
     "traceback": [
      "\u001b[1;36m  Input \u001b[1;32mIn [22]\u001b[1;36m\u001b[0m\n\u001b[1;33m    'Microphones', 'Electronics' , 'Accessories' : 'Electronics'\u001b[0m\n\u001b[1;37m    ^\u001b[0m\n\u001b[1;31mSyntaxError\u001b[0m\u001b[1;31m:\u001b[0m only single target (not tuple) can be annotated\n"
     ]
    }
   ],
   "source": [
    "#'Microphones', 'Electronics' , 'Accessories' : 'Electronics'\n",
    "#'OfficeProducts' : 'OfficeProducts'\n",
    "#'Home&Kitchen' : 'Home&Kitchen'"
   ]
  },
  {
   "cell_type": "code",
   "execution_count": 23,
   "id": "5e00ab1a",
   "metadata": {},
   "outputs": [],
   "source": [
    "def category(str_value):\n",
    "    if \"Home&Kitchen\" in str_value:\n",
    "        return \"Home&Kitchen\"\n",
    "    elif \"Home\" in str_value:\n",
    "        return \"Home&Kitchen\"\n",
    "    elif \"OfficeProducts\" in str_value:\n",
    "        return \"OfficeProducts\"\n",
    "    elif \"Microphones\" in str_value:\n",
    "        return \"Electronics\"\n",
    "    elif \"Electronics\" in str_value:\n",
    "        return \"Electronics\"\n",
    "    elif \"Accessories\" in str_value:\n",
    "        return \"Electronics\"\n",
    "    elif \"Games\" in str_value:\n",
    "        return \"Electronics\"\n",
    "    else:\n",
    "        return str_value"
   ]
  },
  {
   "cell_type": "code",
   "execution_count": 24,
   "id": "30417013",
   "metadata": {},
   "outputs": [
    {
     "data": {
      "text/plain": [
       "array(['Electronics', 'Home&Kitchen', 'OfficeProducts'], dtype=object)"
      ]
     },
     "execution_count": 24,
     "metadata": {},
     "output_type": "execute_result"
    }
   ],
   "source": [
    "df['category'] = df['category'].apply(category)\n",
    "df['category'].unique()"
   ]
  },
  {
   "cell_type": "code",
   "execution_count": 25,
   "id": "fc5321c1",
   "metadata": {},
   "outputs": [
    {
     "data": {
      "text/plain": [
       "Electronics       805\n",
       "Home&Kitchen      629\n",
       "OfficeProducts     31\n",
       "Name: category, dtype: int64"
      ]
     },
     "execution_count": 25,
     "metadata": {},
     "output_type": "execute_result"
    }
   ],
   "source": [
    "df['category'].value_counts()"
   ]
  },
  {
   "cell_type": "markdown",
   "id": "7d8d6436",
   "metadata": {},
   "source": [
    "## Data Analysis"
   ]
  },
  {
   "cell_type": "markdown",
   "id": "94036f73",
   "metadata": {},
   "source": [
    "### 1. What is the average rating for each product category?"
   ]
  },
  {
   "cell_type": "code",
   "execution_count": 26,
   "id": "dee55600",
   "metadata": {},
   "outputs": [
    {
     "data": {
      "text/html": [
       "<div>\n",
       "<style scoped>\n",
       "    .dataframe tbody tr th:only-of-type {\n",
       "        vertical-align: middle;\n",
       "    }\n",
       "\n",
       "    .dataframe tbody tr th {\n",
       "        vertical-align: top;\n",
       "    }\n",
       "\n",
       "    .dataframe thead th {\n",
       "        text-align: right;\n",
       "    }\n",
       "</style>\n",
       "<table border=\"1\" class=\"dataframe\">\n",
       "  <thead>\n",
       "    <tr style=\"text-align: right;\">\n",
       "      <th></th>\n",
       "      <th>category</th>\n",
       "      <th>rating</th>\n",
       "    </tr>\n",
       "  </thead>\n",
       "  <tbody>\n",
       "    <tr>\n",
       "      <th>0</th>\n",
       "      <td>Electronics</td>\n",
       "      <td>4.123975</td>\n",
       "    </tr>\n",
       "    <tr>\n",
       "      <th>1</th>\n",
       "      <td>Home&amp;Kitchen</td>\n",
       "      <td>4.050955</td>\n",
       "    </tr>\n",
       "    <tr>\n",
       "      <th>2</th>\n",
       "      <td>OfficeProducts</td>\n",
       "      <td>4.309677</td>\n",
       "    </tr>\n",
       "  </tbody>\n",
       "</table>\n",
       "</div>"
      ],
      "text/plain": [
       "         category    rating\n",
       "0     Electronics  4.123975\n",
       "1    Home&Kitchen  4.050955\n",
       "2  OfficeProducts  4.309677"
      ]
     },
     "execution_count": 26,
     "metadata": {},
     "output_type": "execute_result"
    }
   ],
   "source": [
    "df.groupby(['category'])['rating'].mean().reset_index()"
   ]
  },
  {
   "cell_type": "markdown",
   "id": "dcd21367",
   "metadata": {},
   "source": [
    "- OfficeProducts products category has the highest average rating.\n",
    "- Electronics is the second highest average rating."
   ]
  },
  {
   "cell_type": "markdown",
   "id": "467e303c",
   "metadata": {},
   "source": [
    "### 2. What are the top rating_count products by category?"
   ]
  },
  {
   "cell_type": "code",
   "execution_count": 27,
   "id": "873374f3",
   "metadata": {},
   "outputs": [
    {
     "data": {
      "text/html": [
       "<div>\n",
       "<style scoped>\n",
       "    .dataframe tbody tr th:only-of-type {\n",
       "        vertical-align: middle;\n",
       "    }\n",
       "\n",
       "    .dataframe tbody tr th {\n",
       "        vertical-align: top;\n",
       "    }\n",
       "\n",
       "    .dataframe thead th {\n",
       "        text-align: right;\n",
       "    }\n",
       "</style>\n",
       "<table border=\"1\" class=\"dataframe\">\n",
       "  <thead>\n",
       "    <tr style=\"text-align: right;\">\n",
       "      <th></th>\n",
       "      <th>category</th>\n",
       "      <th>product_name</th>\n",
       "      <th>rating_count</th>\n",
       "    </tr>\n",
       "  </thead>\n",
       "  <tbody>\n",
       "    <tr>\n",
       "      <th>758</th>\n",
       "      <td>Home&amp;Kitchen</td>\n",
       "      <td>AmazonBasics Flexible Premium HDMI Cable (Blac...</td>\n",
       "      <td>853945.0</td>\n",
       "    </tr>\n",
       "    <tr>\n",
       "      <th>747</th>\n",
       "      <td>Home&amp;Kitchen</td>\n",
       "      <td>Amazon Basics High-Speed HDMI Cable, 6 Feet (2...</td>\n",
       "      <td>426973.0</td>\n",
       "    </tr>\n",
       "    <tr>\n",
       "      <th>748</th>\n",
       "      <td>Home&amp;Kitchen</td>\n",
       "      <td>Amazon Basics High-Speed HDMI Cable, 6 Feet - ...</td>\n",
       "      <td>426973.0</td>\n",
       "    </tr>\n",
       "    <tr>\n",
       "      <th>215</th>\n",
       "      <td>Electronics</td>\n",
       "      <td>JBL C100SI Wired In Ear Headphones with Mic, J...</td>\n",
       "      <td>385177.0</td>\n",
       "    </tr>\n",
       "    <tr>\n",
       "      <th>616</th>\n",
       "      <td>Electronics</td>\n",
       "      <td>boAt Bassheads 100 in Ear Wired Earphones with...</td>\n",
       "      <td>363713.0</td>\n",
       "    </tr>\n",
       "    <tr>\n",
       "      <th>617</th>\n",
       "      <td>Electronics</td>\n",
       "      <td>boAt Bassheads 100 in Ear Wired Earphones with...</td>\n",
       "      <td>363713.0</td>\n",
       "    </tr>\n",
       "    <tr>\n",
       "      <th>613</th>\n",
       "      <td>Electronics</td>\n",
       "      <td>boAt BassHeads 100 in-Ear Wired Headphones wit...</td>\n",
       "      <td>363711.0</td>\n",
       "    </tr>\n",
       "    <tr>\n",
       "      <th>390</th>\n",
       "      <td>Electronics</td>\n",
       "      <td>Redmi 9A Sport (Coral Green, 2GB RAM, 32GB Sto...</td>\n",
       "      <td>313836.0</td>\n",
       "    </tr>\n",
       "    <tr>\n",
       "      <th>388</th>\n",
       "      <td>Electronics</td>\n",
       "      <td>Redmi 9 Activ (Carbon Black, 4GB RAM, 64GB Sto...</td>\n",
       "      <td>313836.0</td>\n",
       "    </tr>\n",
       "    <tr>\n",
       "      <th>389</th>\n",
       "      <td>Electronics</td>\n",
       "      <td>Redmi 9A Sport (Carbon Black, 2GB RAM, 32GB St...</td>\n",
       "      <td>313832.0</td>\n",
       "    </tr>\n",
       "  </tbody>\n",
       "</table>\n",
       "</div>"
      ],
      "text/plain": [
       "         category                                       product_name  \\\n",
       "758  Home&Kitchen  AmazonBasics Flexible Premium HDMI Cable (Blac...   \n",
       "747  Home&Kitchen  Amazon Basics High-Speed HDMI Cable, 6 Feet (2...   \n",
       "748  Home&Kitchen  Amazon Basics High-Speed HDMI Cable, 6 Feet - ...   \n",
       "215   Electronics  JBL C100SI Wired In Ear Headphones with Mic, J...   \n",
       "616   Electronics  boAt Bassheads 100 in Ear Wired Earphones with...   \n",
       "617   Electronics  boAt Bassheads 100 in Ear Wired Earphones with...   \n",
       "613   Electronics  boAt BassHeads 100 in-Ear Wired Headphones wit...   \n",
       "390   Electronics  Redmi 9A Sport (Coral Green, 2GB RAM, 32GB Sto...   \n",
       "388   Electronics  Redmi 9 Activ (Carbon Black, 4GB RAM, 64GB Sto...   \n",
       "389   Electronics  Redmi 9A Sport (Carbon Black, 2GB RAM, 32GB St...   \n",
       "\n",
       "     rating_count  \n",
       "758      853945.0  \n",
       "747      426973.0  \n",
       "748      426973.0  \n",
       "215      385177.0  \n",
       "616      363713.0  \n",
       "617      363713.0  \n",
       "613      363711.0  \n",
       "390      313836.0  \n",
       "388      313836.0  \n",
       "389      313832.0  "
      ]
     },
     "execution_count": 27,
     "metadata": {},
     "output_type": "execute_result"
    }
   ],
   "source": [
    "## top 10 rating count products :\n",
    "prodWithRating = df.groupby(['category','product_name'])['rating_count'].sum().reset_index()\n",
    "prodWithRating.sort_values(by = 'rating_count' ,ascending=False).head(10)"
   ]
  },
  {
   "cell_type": "markdown",
   "id": "90a7f9fa",
   "metadata": {},
   "source": [
    "### 3. What is the distribution of discounted prices vs. actual prices?"
   ]
  },
  {
   "cell_type": "code",
   "execution_count": 28,
   "id": "8a5aa3b9",
   "metadata": {},
   "outputs": [
    {
     "data": {
      "image/png": "[encoded data removed]",
      "text/plain": [
       "<Figure size 432x288 with 1 Axes>"
      ]
     },
     "metadata": {
      "needs_background": "light"
     },
     "output_type": "display_data"
    }
   ],
   "source": [
    "sns.kdeplot(df['discounted_price'] , label = \"Discount Price\")\n",
    "sns.kdeplot(df['actual_price'] , label = \"Actual Price\")\n",
    "plt.legend()\n",
    "plt.show()"
   ]
  },
  {
   "cell_type": "markdown",
   "id": "f4a321ac",
   "metadata": {},
   "source": [
    "### 4. How does the average discount percentage vary across categories?"
   ]
  },
  {
   "cell_type": "code",
   "execution_count": 29,
   "id": "595b8709",
   "metadata": {},
   "outputs": [
    {
     "data": {
      "text/html": [
       "<div>\n",
       "<style scoped>\n",
       "    .dataframe tbody tr th:only-of-type {\n",
       "        vertical-align: middle;\n",
       "    }\n",
       "\n",
       "    .dataframe tbody tr th {\n",
       "        vertical-align: top;\n",
       "    }\n",
       "\n",
       "    .dataframe thead th {\n",
       "        text-align: right;\n",
       "    }\n",
       "</style>\n",
       "<table border=\"1\" class=\"dataframe\">\n",
       "  <thead>\n",
       "    <tr style=\"text-align: right;\">\n",
       "      <th></th>\n",
       "      <th>category</th>\n",
       "      <th>discount_percentage</th>\n",
       "    </tr>\n",
       "  </thead>\n",
       "  <tbody>\n",
       "    <tr>\n",
       "      <th>0</th>\n",
       "      <td>Electronics</td>\n",
       "      <td>52.837267</td>\n",
       "    </tr>\n",
       "    <tr>\n",
       "      <th>1</th>\n",
       "      <td>Home&amp;Kitchen</td>\n",
       "      <td>42.847377</td>\n",
       "    </tr>\n",
       "    <tr>\n",
       "      <th>2</th>\n",
       "      <td>OfficeProducts</td>\n",
       "      <td>12.354839</td>\n",
       "    </tr>\n",
       "  </tbody>\n",
       "</table>\n",
       "</div>"
      ],
      "text/plain": [
       "         category  discount_percentage\n",
       "0     Electronics            52.837267\n",
       "1    Home&Kitchen            42.847377\n",
       "2  OfficeProducts            12.354839"
      ]
     },
     "execution_count": 29,
     "metadata": {},
     "output_type": "execute_result"
    }
   ],
   "source": [
    "# first find the avg discount % for each category\n",
    "# then plot it using bar chart\n",
    "disCat = df.groupby(['category'])['discount_percentage'].mean().reset_index()\n",
    "disCat"
   ]
  },
  {
   "cell_type": "code",
   "execution_count": 30,
   "id": "285b52fd",
   "metadata": {},
   "outputs": [
    {
     "data": {
      "image/png": "[encoded data removed]",
      "text/plain": [
       "<Figure size 432x288 with 1 Axes>"
      ]
     },
     "metadata": {
      "needs_background": "light"
     },
     "output_type": "display_data"
    }
   ],
   "source": [
    "sns.barplot(x = disCat['category'] , y = disCat['discount_percentage'])\n",
    "plt.title(\"Avg discount % for each category\")\n",
    "plt.show()"
   ]
  },
  {
   "cell_type": "markdown",
   "id": "07a491f2",
   "metadata": {},
   "source": [
    "- The Product Category 'Electronics' has the highest avg discount %."
   ]
  },
  {
   "cell_type": "markdown",
   "id": "48cf457e",
   "metadata": {},
   "source": [
    "### 5. What are the most popular product names?"
   ]
  },
  {
   "cell_type": "code",
   "execution_count": null,
   "id": "604fe103",
   "metadata": {},
   "outputs": [],
   "source": [
    "# the products which rating count and review is high we can consider them as popular products. \n",
    "# group the products > find their rating sum > find its review count sum"
   ]
  },
  {
   "cell_type": "code",
   "execution_count": 34,
   "id": "edc8f6cc",
   "metadata": {},
   "outputs": [
    {
     "data": {
      "text/plain": [
       "Index(['product_id', 'product_name', 'category', 'discounted_price',\n",
       "       'actual_price', 'discount_percentage', 'rating', 'rating_count',\n",
       "       'about_product', 'user_id', 'user_name', 'review_id', 'review_title',\n",
       "       'review_content', 'img_link', 'product_link'],\n",
       "      dtype='object')"
      ]
     },
     "execution_count": 34,
     "metadata": {},
     "output_type": "execute_result"
    }
   ],
   "source": [
    "df.columns"
   ]
  },
  {
   "cell_type": "code",
   "execution_count": 74,
   "id": "38581b05",
   "metadata": {},
   "outputs": [
    {
     "data": {
      "text/html": [
       "<div>\n",
       "<style scoped>\n",
       "    .dataframe tbody tr th:only-of-type {\n",
       "        vertical-align: middle;\n",
       "    }\n",
       "\n",
       "    .dataframe tbody tr th {\n",
       "        vertical-align: top;\n",
       "    }\n",
       "\n",
       "    .dataframe thead th {\n",
       "        text-align: right;\n",
       "    }\n",
       "</style>\n",
       "<table border=\"1\" class=\"dataframe\">\n",
       "  <thead>\n",
       "    <tr style=\"text-align: right;\">\n",
       "      <th></th>\n",
       "      <th>product_name</th>\n",
       "      <th>rating_count</th>\n",
       "    </tr>\n",
       "  </thead>\n",
       "  <tbody>\n",
       "    <tr>\n",
       "      <th>75</th>\n",
       "      <td>Amazon Basics High-Speed HDMI Cable, 6 Feet (2...</td>\n",
       "      <td>426973.0</td>\n",
       "    </tr>\n",
       "    <tr>\n",
       "      <th>76</th>\n",
       "      <td>Amazon Basics High-Speed HDMI Cable, 6 Feet - ...</td>\n",
       "      <td>426973.0</td>\n",
       "    </tr>\n",
       "    <tr>\n",
       "      <th>101</th>\n",
       "      <td>AmazonBasics Flexible Premium HDMI Cable (Blac...</td>\n",
       "      <td>426972.5</td>\n",
       "    </tr>\n",
       "    <tr>\n",
       "      <th>1257</th>\n",
       "      <td>boAt Bassheads 100 in Ear Wired Earphones with...</td>\n",
       "      <td>363713.0</td>\n",
       "    </tr>\n",
       "    <tr>\n",
       "      <th>1256</th>\n",
       "      <td>boAt Bassheads 100 in Ear Wired Earphones with...</td>\n",
       "      <td>363713.0</td>\n",
       "    </tr>\n",
       "    <tr>\n",
       "      <th>1253</th>\n",
       "      <td>boAt BassHeads 100 in-Ear Wired Headphones wit...</td>\n",
       "      <td>363711.0</td>\n",
       "    </tr>\n",
       "    <tr>\n",
       "      <th>898</th>\n",
       "      <td>Redmi 9 Activ (Carbon Black, 4GB RAM, 64GB Sto...</td>\n",
       "      <td>313836.0</td>\n",
       "    </tr>\n",
       "    <tr>\n",
       "      <th>900</th>\n",
       "      <td>Redmi 9A Sport (Coral Green, 2GB RAM, 32GB Sto...</td>\n",
       "      <td>313836.0</td>\n",
       "    </tr>\n",
       "    <tr>\n",
       "      <th>901</th>\n",
       "      <td>Redmi 9A Sport (Coral Green, 3GB RAM, 32GB Sto...</td>\n",
       "      <td>313832.0</td>\n",
       "    </tr>\n",
       "    <tr>\n",
       "      <th>899</th>\n",
       "      <td>Redmi 9A Sport (Carbon Black, 2GB RAM, 32GB St...</td>\n",
       "      <td>313832.0</td>\n",
       "    </tr>\n",
       "  </tbody>\n",
       "</table>\n",
       "</div>"
      ],
      "text/plain": [
       "                                           product_name  rating_count\n",
       "75    Amazon Basics High-Speed HDMI Cable, 6 Feet (2...      426973.0\n",
       "76    Amazon Basics High-Speed HDMI Cable, 6 Feet - ...      426973.0\n",
       "101   AmazonBasics Flexible Premium HDMI Cable (Blac...      426972.5\n",
       "1257  boAt Bassheads 100 in Ear Wired Earphones with...      363713.0\n",
       "1256  boAt Bassheads 100 in Ear Wired Earphones with...      363713.0\n",
       "1253  boAt BassHeads 100 in-Ear Wired Headphones wit...      363711.0\n",
       "898   Redmi 9 Activ (Carbon Black, 4GB RAM, 64GB Sto...      313836.0\n",
       "900   Redmi 9A Sport (Coral Green, 2GB RAM, 32GB Sto...      313836.0\n",
       "901   Redmi 9A Sport (Coral Green, 3GB RAM, 32GB Sto...      313832.0\n",
       "899   Redmi 9A Sport (Carbon Black, 2GB RAM, 32GB St...      313832.0"
      ]
     },
     "execution_count": 74,
     "metadata": {},
     "output_type": "execute_result"
    }
   ],
   "source": [
    "NprodGrp = df.groupby(['product_name'])['rating_count'].mean().reset_index()\n",
    "topTenProd = NprodGrp.sort_values(by= 'rating_count' , ascending = False).head(10)\n",
    "topTenProd"
   ]
  },
  {
   "cell_type": "markdown",
   "id": "fdf02cd2",
   "metadata": {},
   "source": [
    "### 6. What are the most popular product keywords?"
   ]
  },
  {
   "cell_type": "code",
   "execution_count": 83,
   "id": "eae5e11f",
   "metadata": {},
   "outputs": [
    {
     "name": "stdout",
     "output_type": "stream",
     "text": [
      "Amazon Basics High-Speed HDMI Cable, 6 Feet (2-Pack),Black\n",
      "Amazon Basics High-Speed HDMI Cable, 6 Feet - Supports Ethernet, 3D, 4K video,Black\n",
      "AmazonBasics Flexible Premium HDMI Cable (Black, 4K@60Hz, 18Gbps), 3-Foot\n",
      "boAt Bassheads 100 in Ear Wired Earphones with Mic(Taffy Pink)\n",
      "boAt Bassheads 100 in Ear Wired Earphones with Mic(Furious Red)\n",
      "boAt BassHeads 100 in-Ear Wired Headphones with Mic (Black)\n",
      "Redmi 9 Activ (Carbon Black, 4GB RAM, 64GB Storage) | Octa-core Helio G35 | 5000 mAh Battery\n",
      "Redmi 9A Sport (Coral Green, 2GB RAM, 32GB Storage) | 2GHz Octa-core Helio G25 Processor | 5000 mAh Battery\n",
      "Redmi 9A Sport (Coral Green, 3GB RAM, 32GB Storage) | 2GHz Octa-core Helio G25 Processor | 5000 mAh Battery\n",
      "Redmi 9A Sport (Carbon Black, 2GB RAM, 32GB Storage) | 2GHz Octa-core Helio G25 Processor | 5000 mAh Battery\n"
     ]
    }
   ],
   "source": [
    "## displaying the top 10 popular products name\n",
    "for prd_name in topTenProd['product_name']:\n",
    "    print(prd_name)"
   ]
  },
  {
   "cell_type": "code",
   "execution_count": 84,
   "id": "b2d7a64e",
   "metadata": {},
   "outputs": [
    {
     "name": "stderr",
     "output_type": "stream",
     "text": [
      "[nltk_data] Downloading package punkt to C:\\Users\\ASUS VIVOBOOK\n",
      "[nltk_data]     14\\AppData\\Roaming\\nltk_data...\n"
     ]
    },
    {
     "name": "stdout",
     "output_type": "stream",
     "text": [
      "Product 1 Keywords: ['Amazon', 'Basics', 'HDMI', 'Cable', '6', 'Feet', 'Black']\n",
      "Product 2 Keywords: ['Amazon', 'Basics', 'HDMI', 'Cable', '6', 'Feet', 'Supports', 'Ethernet', '3D', '4K', 'video', 'Black']\n",
      "Product 3 Keywords: ['AmazonBasics', 'Flexible', 'Premium', 'HDMI', 'Cable', 'Black', '4K', '60Hz', '18Gbps']\n",
      "Product 4 Keywords: ['boAt', 'Bassheads', '100', 'Ear', 'Wired', 'Earphones', 'Mic', 'Taffy', 'Pink']\n",
      "Product 5 Keywords: ['boAt', 'Bassheads', '100', 'Ear', 'Wired', 'Earphones', 'Mic', 'Furious', 'Red']\n",
      "Product 6 Keywords: ['boAt', 'BassHeads', '100', 'Wired', 'Headphones', 'Mic', 'Black']\n",
      "Product 7 Keywords: ['Redmi', '9', 'Activ', 'Carbon', 'Black', '4GB', 'RAM', '64GB', 'Storage', 'Helio', 'G35', '5000', 'mAh', 'Battery']\n",
      "Product 8 Keywords: ['Redmi', '9A', 'Sport', 'Coral', 'Green', '2GB', 'RAM', '32GB', 'Storage', '2GHz', 'Helio', 'G25', 'Processor', '5000', 'mAh', 'Battery']\n",
      "Product 9 Keywords: ['Redmi', '9A', 'Sport', 'Coral', 'Green', '3GB', 'RAM', '32GB', 'Storage', '2GHz', 'Helio', 'G25', 'Processor', '5000', 'mAh', 'Battery']\n",
      "Product 10 Keywords: ['Redmi', '9A', 'Sport', 'Carbon', 'Black', '2GB', 'RAM', '32GB', 'Storage', '2GHz', 'Helio', 'G25', 'Processor', '5000', 'mAh', 'Battery']\n"
     ]
    },
    {
     "name": "stderr",
     "output_type": "stream",
     "text": [
      "[nltk_data]   Package punkt is already up-to-date!\n",
      "[nltk_data] Downloading package stopwords to C:\\Users\\ASUS VIVOBOOK\n",
      "[nltk_data]     14\\AppData\\Roaming\\nltk_data...\n",
      "[nltk_data]   Package stopwords is already up-to-date!\n"
     ]
    }
   ],
   "source": [
    "## extracting the keywords from the products name\n",
    "import nltk\n",
    "from nltk.corpus import stopwords\n",
    "from nltk.tokenize import word_tokenize\n",
    "\n",
    "# Download stopwords and punkt for tokenization\n",
    "nltk.download('punkt')\n",
    "nltk.download('stopwords')\n",
    "\n",
    "# List of product names\n",
    "product_names = [\n",
    "    \"Amazon Basics High-Speed HDMI Cable, 6 Feet (2-Pack),Black\",\n",
    "    \"Amazon Basics High-Speed HDMI Cable, 6 Feet - Supports Ethernet, 3D, 4K video,Black\",\n",
    "    \"AmazonBasics Flexible Premium HDMI Cable (Black, 4K@60Hz, 18Gbps), 3-Foot\",\n",
    "    \"boAt Bassheads 100 in Ear Wired Earphones with Mic(Taffy Pink)\",\n",
    "    \"boAt Bassheads 100 in Ear Wired Earphones with Mic(Furious Red)\",\n",
    "    \"boAt BassHeads 100 in-Ear Wired Headphones with Mic (Black)\",\n",
    "    \"Redmi 9 Activ (Carbon Black, 4GB RAM, 64GB Storage) | Octa-core Helio G35 | 5000 mAh Battery\",\n",
    "    \"Redmi 9A Sport (Coral Green, 2GB RAM, 32GB Storage) | 2GHz Octa-core Helio G25 Processor | 5000 mAh Battery\",\n",
    "    \"Redmi 9A Sport (Coral Green, 3GB RAM, 32GB Storage) | 2GHz Octa-core Helio G25 Processor | 5000 mAh Battery\",\n",
    "    \"Redmi 9A Sport (Carbon Black, 2GB RAM, 32GB Storage) | 2GHz Octa-core Helio G25 Processor | 5000 mAh Battery\"\n",
    "]\n",
    "\n",
    "# Define stop words\n",
    "stop_words = set(stopwords.words('english'))\n",
    "\n",
    "# Function to extract keywords from product names\n",
    "def extract_keywords(product_name):\n",
    "    # Tokenize the product name\n",
    "    words = word_tokenize(product_name)\n",
    "    \n",
    "    # Remove stop words and keep only meaningful words\n",
    "    keywords = [word for word in words if word.lower() not in stop_words and word.isalnum()]\n",
    "    \n",
    "    return keywords\n",
    "\n",
    "# Apply the function to extract keywords for each product\n",
    "keywords_list = [extract_keywords(product_name) for product_name in product_names]\n",
    "\n",
    "# Print the keywords for each product\n",
    "for i, keywords in enumerate(keywords_list):\n",
    "    print(f\"Product {i+1} Keywords: {keywords}\")\n"
   ]
  },
  {
   "cell_type": "markdown",
   "id": "2c1eb910",
   "metadata": {},
   "source": [
    "### 7. What are the most popular product reviews?"
   ]
  },
  {
   "cell_type": "code",
   "execution_count": 82,
   "id": "e3b0a066",
   "metadata": {},
   "outputs": [
    {
     "data": {
      "text/html": [
       "<div>\n",
       "<style scoped>\n",
       "    .dataframe tbody tr th:only-of-type {\n",
       "        vertical-align: middle;\n",
       "    }\n",
       "\n",
       "    .dataframe tbody tr th {\n",
       "        vertical-align: top;\n",
       "    }\n",
       "\n",
       "    .dataframe thead th {\n",
       "        text-align: right;\n",
       "    }\n",
       "</style>\n",
       "<table border=\"1\" class=\"dataframe\">\n",
       "  <thead>\n",
       "    <tr style=\"text-align: right;\">\n",
       "      <th></th>\n",
       "      <th>product_name</th>\n",
       "      <th>review_title</th>\n",
       "      <th>review_content</th>\n",
       "    </tr>\n",
       "  </thead>\n",
       "  <tbody>\n",
       "    <tr>\n",
       "      <th>0</th>\n",
       "      <td>Amazon Basics High-Speed HDMI Cable, 6 Feet (2...</td>\n",
       "      <td>It's quite good and value for money,Works well...</td>\n",
       "      <td>I am using it for 14 days now. The experience ...</td>\n",
       "    </tr>\n",
       "    <tr>\n",
       "      <th>1</th>\n",
       "      <td>Amazon Basics High-Speed HDMI Cable, 6 Feet - ...</td>\n",
       "      <td>It's quite good and value for money,Works well...</td>\n",
       "      <td>I am using it for 14 days now. The experience ...</td>\n",
       "    </tr>\n",
       "    <tr>\n",
       "      <th>2</th>\n",
       "      <td>AmazonBasics Flexible Premium HDMI Cable (Blac...</td>\n",
       "      <td>It's quite good and value for money,Works well...</td>\n",
       "      <td>I am using it for 14 days now. The experience ...</td>\n",
       "    </tr>\n",
       "    <tr>\n",
       "      <th>3</th>\n",
       "      <td>AmazonBasics Flexible Premium HDMI Cable (Blac...</td>\n",
       "      <td>It's quite good and value for money,Works well...</td>\n",
       "      <td>I am using it for 14 days now. The experience ...</td>\n",
       "    </tr>\n",
       "    <tr>\n",
       "      <th>4</th>\n",
       "      <td>boAt Bassheads 100 in Ear Wired Earphones with...</td>\n",
       "      <td>Best value for money,HEAD PHONE POUCH NOT RECE...</td>\n",
       "      <td>The sound quality of this earphone are really ...</td>\n",
       "    </tr>\n",
       "    <tr>\n",
       "      <th>5</th>\n",
       "      <td>boAt Bassheads 100 in Ear Wired Earphones with...</td>\n",
       "      <td>Best value for money,HEAD PHONE POUCH NOT RECE...</td>\n",
       "      <td>The sound quality of this earphone are really ...</td>\n",
       "    </tr>\n",
       "    <tr>\n",
       "      <th>6</th>\n",
       "      <td>boAt BassHeads 100 in-Ear Wired Headphones wit...</td>\n",
       "      <td>Best value for money,HEAD PHONE POUCH NOT RECE...</td>\n",
       "      <td>The sound quality of this earphone are really ...</td>\n",
       "    </tr>\n",
       "    <tr>\n",
       "      <th>7</th>\n",
       "      <td>Redmi 9 Activ (Carbon Black, 4GB RAM, 64GB Sto...</td>\n",
       "      <td>Best phone for below normal use,Good mobile fo...</td>\n",
       "      <td>If you want a smart phone for just the use of ...</td>\n",
       "    </tr>\n",
       "    <tr>\n",
       "      <th>8</th>\n",
       "      <td>Redmi 9A Sport (Coral Green, 2GB RAM, 32GB Sto...</td>\n",
       "      <td>Best phone for below normal use,Good mobile fo...</td>\n",
       "      <td>If you want a smart phone for just the use of ...</td>\n",
       "    </tr>\n",
       "    <tr>\n",
       "      <th>9</th>\n",
       "      <td>Redmi 9A Sport (Coral Green, 3GB RAM, 32GB Sto...</td>\n",
       "      <td>Best phone for below normal use,Good mobile fo...</td>\n",
       "      <td>If you want a smart phone for just the use of ...</td>\n",
       "    </tr>\n",
       "    <tr>\n",
       "      <th>10</th>\n",
       "      <td>Redmi 9A Sport (Carbon Black, 2GB RAM, 32GB St...</td>\n",
       "      <td>Best phone for below normal use,Good mobile fo...</td>\n",
       "      <td>If you want a smart phone for just the use of ...</td>\n",
       "    </tr>\n",
       "  </tbody>\n",
       "</table>\n",
       "</div>"
      ],
      "text/plain": [
       "                                         product_name  \\\n",
       "0   Amazon Basics High-Speed HDMI Cable, 6 Feet (2...   \n",
       "1   Amazon Basics High-Speed HDMI Cable, 6 Feet - ...   \n",
       "2   AmazonBasics Flexible Premium HDMI Cable (Blac...   \n",
       "3   AmazonBasics Flexible Premium HDMI Cable (Blac...   \n",
       "4   boAt Bassheads 100 in Ear Wired Earphones with...   \n",
       "5   boAt Bassheads 100 in Ear Wired Earphones with...   \n",
       "6   boAt BassHeads 100 in-Ear Wired Headphones wit...   \n",
       "7   Redmi 9 Activ (Carbon Black, 4GB RAM, 64GB Sto...   \n",
       "8   Redmi 9A Sport (Coral Green, 2GB RAM, 32GB Sto...   \n",
       "9   Redmi 9A Sport (Coral Green, 3GB RAM, 32GB Sto...   \n",
       "10  Redmi 9A Sport (Carbon Black, 2GB RAM, 32GB St...   \n",
       "\n",
       "                                         review_title  \\\n",
       "0   It's quite good and value for money,Works well...   \n",
       "1   It's quite good and value for money,Works well...   \n",
       "2   It's quite good and value for money,Works well...   \n",
       "3   It's quite good and value for money,Works well...   \n",
       "4   Best value for money,HEAD PHONE POUCH NOT RECE...   \n",
       "5   Best value for money,HEAD PHONE POUCH NOT RECE...   \n",
       "6   Best value for money,HEAD PHONE POUCH NOT RECE...   \n",
       "7   Best phone for below normal use,Good mobile fo...   \n",
       "8   Best phone for below normal use,Good mobile fo...   \n",
       "9   Best phone for below normal use,Good mobile fo...   \n",
       "10  Best phone for below normal use,Good mobile fo...   \n",
       "\n",
       "                                       review_content  \n",
       "0   I am using it for 14 days now. The experience ...  \n",
       "1   I am using it for 14 days now. The experience ...  \n",
       "2   I am using it for 14 days now. The experience ...  \n",
       "3   I am using it for 14 days now. The experience ...  \n",
       "4   The sound quality of this earphone are really ...  \n",
       "5   The sound quality of this earphone are really ...  \n",
       "6   The sound quality of this earphone are really ...  \n",
       "7   If you want a smart phone for just the use of ...  \n",
       "8   If you want a smart phone for just the use of ...  \n",
       "9   If you want a smart phone for just the use of ...  \n",
       "10  If you want a smart phone for just the use of ...  "
      ]
     },
     "execution_count": 82,
     "metadata": {},
     "output_type": "execute_result"
    }
   ],
   "source": [
    "## fetching the poducts review title and content \n",
    "pd.merge(topTenProd , df , on='product_name')[['product_name' , 'review_title','review_content']]"
   ]
  },
  {
   "cell_type": "markdown",
   "id": "eae5e61c",
   "metadata": {},
   "source": [
    "- These are the most popular products reviews."
   ]
  },
  {
   "cell_type": "markdown",
   "id": "c823af2d",
   "metadata": {},
   "source": [
    "### 8. What is the correlation between discounted_price and rating?"
   ]
  },
  {
   "cell_type": "code",
   "execution_count": 31,
   "id": "1d360767",
   "metadata": {},
   "outputs": [
    {
     "data": {
      "text/html": [
       "<div>\n",
       "<style scoped>\n",
       "    .dataframe tbody tr th:only-of-type {\n",
       "        vertical-align: middle;\n",
       "    }\n",
       "\n",
       "    .dataframe tbody tr th {\n",
       "        vertical-align: top;\n",
       "    }\n",
       "\n",
       "    .dataframe thead th {\n",
       "        text-align: right;\n",
       "    }\n",
       "</style>\n",
       "<table border=\"1\" class=\"dataframe\">\n",
       "  <thead>\n",
       "    <tr style=\"text-align: right;\">\n",
       "      <th></th>\n",
       "      <th>discounted_price</th>\n",
       "      <th>rating</th>\n",
       "    </tr>\n",
       "  </thead>\n",
       "  <tbody>\n",
       "    <tr>\n",
       "      <th>discounted_price</th>\n",
       "      <td>1.000000</td>\n",
       "      <td>0.120337</td>\n",
       "    </tr>\n",
       "    <tr>\n",
       "      <th>rating</th>\n",
       "      <td>0.120337</td>\n",
       "      <td>1.000000</td>\n",
       "    </tr>\n",
       "  </tbody>\n",
       "</table>\n",
       "</div>"
      ],
      "text/plain": [
       "                  discounted_price    rating\n",
       "discounted_price          1.000000  0.120337\n",
       "rating                    0.120337  1.000000"
      ]
     },
     "execution_count": 31,
     "metadata": {},
     "output_type": "execute_result"
    }
   ],
   "source": [
    "df[['discounted_price' , 'rating']].corr()"
   ]
  },
  {
   "cell_type": "code",
   "execution_count": 32,
   "id": "21752dcc",
   "metadata": {},
   "outputs": [
    {
     "data": {
      "image/png": "[encoded data removed]",
      "text/plain": [
       "<Figure size 432x288 with 1 Axes>"
      ]
     },
     "metadata": {
      "needs_background": "light"
     },
     "output_type": "display_data"
    }
   ],
   "source": [
    "sns.scatterplot(x = df['discounted_price'] , y = df['rating'])\n",
    "plt.show()"
   ]
  },
  {
   "cell_type": "markdown",
   "id": "282e89ac",
   "metadata": {},
   "source": [
    "- There is very weak positive correlation between rating and discounted price.\n",
    "- That indicates if there is a increase in discounted price , rating of the products can be increase. "
   ]
  },
  {
   "cell_type": "markdown",
   "id": "e0dd1940",
   "metadata": {},
   "source": [
    "### 9. What are the Top 5 categories based on the highest ratings?"
   ]
  },
  {
   "cell_type": "code",
   "execution_count": 33,
   "id": "a5dfd115",
   "metadata": {},
   "outputs": [
    {
     "data": {
      "text/html": [
       "<div>\n",
       "<style scoped>\n",
       "    .dataframe tbody tr th:only-of-type {\n",
       "        vertical-align: middle;\n",
       "    }\n",
       "\n",
       "    .dataframe tbody tr th {\n",
       "        vertical-align: top;\n",
       "    }\n",
       "\n",
       "    .dataframe thead th {\n",
       "        text-align: right;\n",
       "    }\n",
       "</style>\n",
       "<table border=\"1\" class=\"dataframe\">\n",
       "  <thead>\n",
       "    <tr style=\"text-align: right;\">\n",
       "      <th></th>\n",
       "      <th>category</th>\n",
       "      <th>rating</th>\n",
       "    </tr>\n",
       "  </thead>\n",
       "  <tbody>\n",
       "    <tr>\n",
       "      <th>0</th>\n",
       "      <td>Electronics</td>\n",
       "      <td>5.0</td>\n",
       "    </tr>\n",
       "    <tr>\n",
       "      <th>1</th>\n",
       "      <td>Home&amp;Kitchen</td>\n",
       "      <td>4.8</td>\n",
       "    </tr>\n",
       "    <tr>\n",
       "      <th>2</th>\n",
       "      <td>OfficeProducts</td>\n",
       "      <td>4.5</td>\n",
       "    </tr>\n",
       "  </tbody>\n",
       "</table>\n",
       "</div>"
      ],
      "text/plain": [
       "         category  rating\n",
       "0     Electronics     5.0\n",
       "1    Home&Kitchen     4.8\n",
       "2  OfficeProducts     4.5"
      ]
     },
     "execution_count": 33,
     "metadata": {},
     "output_type": "execute_result"
    }
   ],
   "source": [
    "## grouping the products based on category and finding the max rating for each group category\n",
    "df.groupby(['category'])['rating'].max().reset_index()"
   ]
  },
  {
   "cell_type": "markdown",
   "id": "598f5e90",
   "metadata": {},
   "source": [
    "- Top categories based on highest ratings."
   ]
  },
  {
   "cell_type": "markdown",
   "id": "4840885f",
   "metadata": {},
   "source": [
    "### 10. Identify any potential areas for improvement or optimization based on the data analysis."
   ]
  },
  {
   "cell_type": "code",
   "execution_count": null,
   "id": "951cf047",
   "metadata": {},
   "outputs": [],
   "source": [
    "# pick some products which rating is very low and check their review"
   ]
  },
  {
   "cell_type": "code",
   "execution_count": 95,
   "id": "7d1a3f8c",
   "metadata": {},
   "outputs": [
    {
     "data": {
      "text/html": [
       "<div>\n",
       "<style scoped>\n",
       "    .dataframe tbody tr th:only-of-type {\n",
       "        vertical-align: middle;\n",
       "    }\n",
       "\n",
       "    .dataframe tbody tr th {\n",
       "        vertical-align: top;\n",
       "    }\n",
       "\n",
       "    .dataframe thead th {\n",
       "        text-align: right;\n",
       "    }\n",
       "</style>\n",
       "<table border=\"1\" class=\"dataframe\">\n",
       "  <thead>\n",
       "    <tr style=\"text-align: right;\">\n",
       "      <th></th>\n",
       "      <th>product_name</th>\n",
       "      <th>rating</th>\n",
       "      <th>review_title</th>\n",
       "      <th>review_content</th>\n",
       "    </tr>\n",
       "  </thead>\n",
       "  <tbody>\n",
       "    <tr>\n",
       "      <th>545</th>\n",
       "      <td>SHREENOVA ID116 Plus Bluetooth Fitness Smart W...</td>\n",
       "      <td>2.8</td>\n",
       "      <td>Very Good prodat,Battery life is 0 day,Good,Wh...</td>\n",
       "      <td>Good Prodat,Battery life is so bad.,Nice produ...</td>\n",
       "    </tr>\n",
       "    <tr>\n",
       "      <th>1243</th>\n",
       "      <td>Personal Size Blender, Portable Blender, Batte...</td>\n",
       "      <td>2.3</td>\n",
       "      <td>Nice product i recommend to buy,Do not buy!! D...</td>\n",
       "      <td>I liked that it is so convenient to carry,Wast...</td>\n",
       "    </tr>\n",
       "    <tr>\n",
       "      <th>1286</th>\n",
       "      <td>MR. BRAND Portable USB Juicer Electric USB Jui...</td>\n",
       "      <td>2.8</td>\n",
       "      <td>Portable but not much powerful,not so good. po...</td>\n",
       "      <td>Not sufficient power,the product is more like ...</td>\n",
       "    </tr>\n",
       "    <tr>\n",
       "      <th>1309</th>\n",
       "      <td>Khaitan ORFin Fan heater for Home and kitchen-...</td>\n",
       "      <td>2.0</td>\n",
       "      <td>Bad quality,Amazing product..</td>\n",
       "      <td>The heating capacity is zero .Moreover i have ...</td>\n",
       "    </tr>\n",
       "    <tr>\n",
       "      <th>1356</th>\n",
       "      <td>Green Tales Heat Seal Mini Food Sealer-Impulse...</td>\n",
       "      <td>2.6</td>\n",
       "      <td>It is broken,Could have been a bit better,The ...</td>\n",
       "      <td>It is broken and it is not useful. Please chan...</td>\n",
       "    </tr>\n",
       "    <tr>\n",
       "      <th>1449</th>\n",
       "      <td>IONIX Tap filter Multilayer | Activated Carbon...</td>\n",
       "      <td>2.9</td>\n",
       "      <td>Stop working after few days,Ok. Changing every...</td>\n",
       "      <td>Stop working after few days,Ok,It doesn't fit ...</td>\n",
       "    </tr>\n",
       "  </tbody>\n",
       "</table>\n",
       "</div>"
      ],
      "text/plain": [
       "                                           product_name  rating  \\\n",
       "545   SHREENOVA ID116 Plus Bluetooth Fitness Smart W...     2.8   \n",
       "1243  Personal Size Blender, Portable Blender, Batte...     2.3   \n",
       "1286  MR. BRAND Portable USB Juicer Electric USB Jui...     2.8   \n",
       "1309  Khaitan ORFin Fan heater for Home and kitchen-...     2.0   \n",
       "1356  Green Tales Heat Seal Mini Food Sealer-Impulse...     2.6   \n",
       "1449  IONIX Tap filter Multilayer | Activated Carbon...     2.9   \n",
       "\n",
       "                                           review_title  \\\n",
       "545   Very Good prodat,Battery life is 0 day,Good,Wh...   \n",
       "1243  Nice product i recommend to buy,Do not buy!! D...   \n",
       "1286  Portable but not much powerful,not so good. po...   \n",
       "1309                      Bad quality,Amazing product..   \n",
       "1356  It is broken,Could have been a bit better,The ...   \n",
       "1449  Stop working after few days,Ok. Changing every...   \n",
       "\n",
       "                                         review_content  \n",
       "545   Good Prodat,Battery life is so bad.,Nice produ...  \n",
       "1243  I liked that it is so convenient to carry,Wast...  \n",
       "1286  Not sufficient power,the product is more like ...  \n",
       "1309  The heating capacity is zero .Moreover i have ...  \n",
       "1356  It is broken and it is not useful. Please chan...  \n",
       "1449  Stop working after few days,Ok,It doesn't fit ...  "
      ]
     },
     "execution_count": 95,
     "metadata": {},
     "output_type": "execute_result"
    }
   ],
   "source": [
    "## looking for the products which rating is less than 3\n",
    "lowQtyProd = df[df['rating'] < 3]\n",
    "lowQtyProd[['product_name','rating','review_title','review_content']]"
   ]
  },
  {
   "cell_type": "code",
   "execution_count": 93,
   "id": "81887fe9",
   "metadata": {},
   "outputs": [
    {
     "data": {
      "text/plain": [
       "array(['Very Good prodat,Battery life is 0 day,Good,Where is switch on button?,Saman kharab hai,Do not purchase totally waste of time and money.,Bhot Gandhi h ye watch,Good 👍 nice',\n",
       "       'Nice product i recommend to buy,Do not buy!! Defective product,Wast of money,Very very bad portable,Waste of money its not working properly',\n",
       "       \"Portable but not much powerful,not so good. power back up is very poor.its more like a toy for my 9 years old girl.,500 rs ok,Don't be fooled by ratings, not a good product,Not recommended,Worst Battery, no use,It is affordable .,User friendly blender, Recommended to buy nice products\",\n",
       "       'Bad quality,Amazing product..',\n",
       "       'It is broken,Could have been a bit better,The first one was not working and the replacement was sent without box with a used piece,Super cool,Great,Product does not work,Product was not too good it only seal normal thin polybag,Good. Works',\n",
       "       \"Stop working after few days,Ok. Changing every 4 months toomuch,Tap filter,Quality,Doesn't purify water,Very good product,REALLY GOOD!,Bad\"],\n",
       "      dtype=object)"
      ]
     },
     "execution_count": 93,
     "metadata": {},
     "output_type": "execute_result"
    }
   ],
   "source": [
    "## viewing the reveiw of the products which rating is less than 3\n",
    "lowQtyProd['review_title'].values"
   ]
  },
  {
   "cell_type": "code",
   "execution_count": 96,
   "id": "9feefb88",
   "metadata": {},
   "outputs": [
    {
     "data": {
      "text/plain": [
       "array(['Good Prodat,Battery life is so bad.,Nice product,Dislike product also not return its only replacement,,Iska tauch kaam nahi kar raha hai aur kewal mobile adoptot se charge karne par on dikh raha phir turat band ho ja raha hai.ise wapas karna hai.,पहिल्या दिवसापासूनच ती वॉच ऑन होत नाही. चार्ज केले तरी पण ऑन होत नाही. पुर्णपणे third class वॉच पाठविली Amazon ने. दिवसेंदिवस Amazon ची सर्व्हिस आणि प्रॉडक्ट bad होत चाललेले दिसत आहे.,Bhot Jada ghatia h h,All the products are very good working there is no any issue till now.',\n",
       "       'I liked that it is so convenient to carry,Waste of money. Defective product, cheap quality. doesn’t blend at all,https://m.media-amazon.com/images/I/71IVsjyZ13L._SY88.jpg,First charge problemSecond motor proble,https://m.media-amazon.com/images/I/61aXXxIxPwL._SY88.jpg',\n",
       "       \"Not sufficient power,the product is more like a toy for kids. can't use  it as a proper juicer. power back up is very poor.,Ok,I had to replace this product first time because it was leaking and now after replacement the new one has no battery backup and vibrates too much.The MRP is above 2000 rupees which is not at all justfied by the product.After buying the product I found that with the product they are giving a cashback offer of 25 to 100 rs if you give 5 star review, probably that's why it has good ratings. I feel I was fooled by the ratings.,Waste product as the juicer is leaking which creates the whole place mess and the juicer doesn't grind properly where the pieces of fruits remain ungrinded. I generally dont write reviews but i was forced to write this one as this is just waste of moneySpend it wisely for something better,It's does not work properly at all, after charging for 4 hours the battery last only 30 - 45 sec. Very bad product.And they have given a cashback coupon to attract good rating.Misleading information is given on the detail page.,I bought this mostly for milk shake and it does an amazing job and it is affordable but it didn't worked while charging,User friendly blender, very useful for the pg accommodaters. I am using this to make a protein shake from day one when I was received from Amazon.\",\n",
       "       'The heating capacity is zero .Moreover i have initiated return request. Noone has come to collect it,Best heater at this price. Quality is very good . Suggest everyone to purchase this heater.......... amazing product to buy...',\n",
       "       \"It is broken and it is not useful. Please change this product,product is so so... the plastic quality is not so good as per the price.it claims that it can be stuck in the metallic areas like fridge but the magnet is not working.,The first one was not working and the replacement was sent without box with a used piece. The battery had water while I received it and even the delivery person was shocked,This is marvellous product to use . Such a small product but does wonders . And that too given 2 batteries,Great product and lovely packaging,I don't like it the product it not working,Not satisfied,\",\n",
       "       \"Stop working after few days,Ok,It doesn't fit easily. Little water pressure the filter falls off. Fitting is draw back for the product. Water purification method implied is good. Installation must be made easy.,Having hair problem due to water so bought this for my bathroom. Good quality product but After using it for couple of days filtered water pressure has reduced.,Pros:-Easy to install (pipe comes with 3 different dimensions)Cons:- Hoped it to purify the tap water (as mentioned in their description). Unfortunately doesn't serve the purpose - I measured my usual water with tds ppc meter - the result was 427 (usual for Bangalore). After I installed this filter - it showed the result of 424. Disappointing. You need it less than 100 to be sure to drink it.,Easy to install & Value for money,I used it for a school project and it worked super well!,Old product received. Inside seems as rusted\"],\n",
       "      dtype=object)"
      ]
     },
     "execution_count": 96,
     "metadata": {},
     "output_type": "execute_result"
    }
   ],
   "source": [
    "## detailed content of products which rating is less than 3.\n",
    "lowQtyProd['review_content'].values"
   ]
  },
  {
   "cell_type": "markdown",
   "id": "276e6008",
   "metadata": {},
   "source": [
    "- These are some products which rating is less than 3.\n",
    "- By improving the quality of these products , the sale can be more optimised."
   ]
  },
  {
   "cell_type": "code",
   "execution_count": null,
   "id": "975ff238",
   "metadata": {},
   "outputs": [],
   "source": []
  }
 ],
 "metadata": {
  "kernelspec": {
   "display_name": "Python 3 (ipykernel)",
   "language": "python",
   "name": "python3"
  },
  "language_info": {
   "codemirror_mode": {
    "name": "ipython",
    "version": 3
   },
   "file_extension": ".py",
   "mimetype": "text/x-python",
   "name": "python",
   "nbconvert_exporter": "python",
   "pygments_lexer": "ipython3",
   "version": "3.9.12"
  }
 },
 "nbformat": 4,
 "nbformat_minor": 5
}
