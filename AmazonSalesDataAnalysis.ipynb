{
 "cells": [
  {
   "cell_type": "markdown",
   "id": "3f161344",
   "metadata": {},
   "source": [
    "## EDA-2 - Amazon Sales Data Analysis"
   ]
  },
  {
   "cell_type": "markdown",
   "id": "831fa44f",
   "metadata": {},
   "source": [
    "## About Dataset :\n",
    "This dataset contains information on #K+ Amazon products, including their ratings, reviews, and other details.\n",
    "\n",
    "## Dataset Link :\n",
    "https://drive.google.com/file/d/11NyikQ2o4IgjS7QOT-5-eKV6dOANt712/view?usp=drive_link"
   ]
  },
  {
   "cell_type": "markdown",
   "id": "a2e8765e",
   "metadata": {},
   "source": [
    "## Feature Description : \n",
    "\n",
    "product_id: Unique identifier for each product\n",
    "\n",
    "product_name: Name of the product\n",
    "\n",
    "category: Category of the product\n",
    "\n",
    "discounted_price: Discounted price of the product\n",
    "\n",
    "actual_price: Actual price of the product\n",
    "\n",
    "discount_percentage: Percentage of discount for the product\n",
    "\n",
    "rating: Rating of the product (#-5)\n",
    "\n",
    "rating_count: Number of people who voted for the Amazon rating\n",
    "\n",
    "about_product: Description about the product\n",
    "\n",
    "user_id: ID of the user who wrote the review\n",
    "\n",
    "user_name: Name of the user who wrote the review\n",
    "\n",
    "review_id: ID of the user review\n",
    "\n",
    "review_title: Short review\n",
    "\n",
    "review_content: Long review\n",
    "\n",
    "img_link: Image link of the product\n",
    "\n",
    "product_link: Qfficial website link of the product"
   ]
  },
  {
   "cell_type": "markdown",
   "id": "c276d089",
   "metadata": {},
   "source": [
    "### 1. What is the average rating for each product category?"
   ]
  },
  {
   "cell_type": "markdown",
   "id": "8a28f713",
   "metadata": {},
   "source": [
    "### 2. What are the top rating_count products by category?"
   ]
  },
  {
   "cell_type": "markdown",
   "id": "4e87df5d",
   "metadata": {},
   "source": [
    "### 3. What is the distribution of discounted prices vs. actual prices?"
   ]
  },
  {
   "cell_type": "markdown",
   "id": "fab4b9eb",
   "metadata": {},
   "source": [
    "### 4. How does the average discount percentage vary across categories?"
   ]
  },
  {
   "cell_type": "markdown",
   "id": "9facf4bd",
   "metadata": {},
   "source": [
    "### 5. What are the most popular product names?"
   ]
  },
  {
   "cell_type": "markdown",
   "id": "5f7d58b7",
   "metadata": {},
   "source": [
    "### 6. What are the most popular product keywords?"
   ]
  },
  {
   "cell_type": "markdown",
   "id": "19b8f9ec",
   "metadata": {},
   "source": [
    "### 7. What are the most popular product reviews?"
   ]
  },
  {
   "cell_type": "markdown",
   "id": "ca2cc8ba",
   "metadata": {},
   "source": [
    "### 8. What is the correlation between discounted_price and rating?"
   ]
  },
  {
   "cell_type": "markdown",
   "id": "d353004e",
   "metadata": {},
   "source": [
    "### 9. What are the Top 5 categories based on the highest ratings?"
   ]
  },
  {
   "cell_type": "markdown",
   "id": "af94f296",
   "metadata": {},
   "source": [
    "### 10. Identify any potential areas for improvement or optimization based on the data analysis."
   ]
  },
  {
   "cell_type": "markdown",
   "id": "4ccd8f52",
   "metadata": {},
   "source": [
    "\n",
    "\n"
   ]
  }
 ],
 "metadata": {
  "kernelspec": {
   "display_name": "Python 3 (ipykernel)",
   "language": "python",
   "name": "python3"
  },
  "language_info": {
   "codemirror_mode": {
    "name": "ipython",
    "version": 3
   },
   "file_extension": ".py",
   "mimetype": "text/x-python",
   "name": "python",
   "nbconvert_exporter": "python",
   "pygments_lexer": "ipython3",
   "version": "3.9.12"
  }
 },
 "nbformat": 4,
 "nbformat_minor": 5
}
